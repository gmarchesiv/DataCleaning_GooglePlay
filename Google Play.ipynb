{
 "cells": [
  {
   "cell_type": "markdown",
   "id": "1c26bd11",
   "metadata": {},
   "source": [
    "# Google Play Apps Store Analysis "
   ]
  },
  {
   "cell_type": "markdown",
   "id": "8c5673df",
   "metadata": {},
   "source": [
    "The objective of this project is to highlight the specific characteristics of the most popular apps by rating at Google Play Store. \n",
    "\n",
    "I aim to answer the following questions:\n",
    "\n",
    "- What categories have better ratings?\n",
    "- Are there differences in ratings between paid and free apps?\n",
    "- Do other features such as number of reviews and content rating have any influece on rating?\n",
    "\n",
    "The complete analysis is conducted in this Jupyter notebook. Annotations are done after each section and conclusions are summarized at the end of the notebook."
   ]
  },
  {
   "cell_type": "markdown",
   "id": "9710a3de",
   "metadata": {},
   "source": [
    "## Loading the data"
   ]
  },
  {
   "cell_type": "code",
   "execution_count": 929,
   "id": "eca78fc2",
   "metadata": {},
   "outputs": [],
   "source": [
    "import numpy as np\n",
    "import pandas as pd\n",
    "import matplotlib.pyplot as plt\n",
    "import seaborn as sns\n",
    "import warnings\n",
    "warnings.filterwarnings('ignore')"
   ]
  },
  {
   "cell_type": "code",
   "execution_count": 930,
   "id": "162c57fd",
   "metadata": {},
   "outputs": [
    {
     "data": {
      "text/html": [
       "<div>\n",
       "<style scoped>\n",
       "    .dataframe tbody tr th:only-of-type {\n",
       "        vertical-align: middle;\n",
       "    }\n",
       "\n",
       "    .dataframe tbody tr th {\n",
       "        vertical-align: top;\n",
       "    }\n",
       "\n",
       "    .dataframe thead th {\n",
       "        text-align: right;\n",
       "    }\n",
       "</style>\n",
       "<table border=\"1\" class=\"dataframe\">\n",
       "  <thead>\n",
       "    <tr style=\"text-align: right;\">\n",
       "      <th></th>\n",
       "      <th>App</th>\n",
       "      <th>Category</th>\n",
       "      <th>Rating</th>\n",
       "      <th>Reviews</th>\n",
       "      <th>Size</th>\n",
       "      <th>Installs</th>\n",
       "      <th>Type</th>\n",
       "      <th>Price</th>\n",
       "      <th>Content Rating</th>\n",
       "      <th>Genres</th>\n",
       "      <th>Last Updated</th>\n",
       "      <th>Current Ver</th>\n",
       "      <th>Android Ver</th>\n",
       "    </tr>\n",
       "  </thead>\n",
       "  <tbody>\n",
       "    <tr>\n",
       "      <th>0</th>\n",
       "      <td>Weather Live</td>\n",
       "      <td>WEATHER</td>\n",
       "      <td>4.5</td>\n",
       "      <td>76593.0</td>\n",
       "      <td>Varies with device</td>\n",
       "      <td>500,000+</td>\n",
       "      <td>Paid</td>\n",
       "      <td>$5.99</td>\n",
       "      <td>Everyone</td>\n",
       "      <td>Weather</td>\n",
       "      <td>November 21, 2017</td>\n",
       "      <td>Varies with device</td>\n",
       "      <td>Varies with device</td>\n",
       "    </tr>\n",
       "    <tr>\n",
       "      <th>1</th>\n",
       "      <td>Weather by WeatherBug: Forecast</td>\n",
       "      <td>WEATHER</td>\n",
       "      <td>4.5</td>\n",
       "      <td>981995.0</td>\n",
       "      <td>Varies with device</td>\n",
       "      <td>10,000,000+</td>\n",
       "      <td>Free</td>\n",
       "      <td>0</td>\n",
       "      <td>Everyone</td>\n",
       "      <td>Weather</td>\n",
       "      <td>June 7, 2018</td>\n",
       "      <td>Varies with device</td>\n",
       "      <td>Varies with device</td>\n",
       "    </tr>\n",
       "    <tr>\n",
       "      <th>2</th>\n",
       "      <td>SMHI Weather</td>\n",
       "      <td>WEATHER</td>\n",
       "      <td>3.5</td>\n",
       "      <td>11297.0</td>\n",
       "      <td>Varies with device</td>\n",
       "      <td>1,000,000+</td>\n",
       "      <td>Free</td>\n",
       "      <td>0</td>\n",
       "      <td>Everyone</td>\n",
       "      <td>Weather</td>\n",
       "      <td>June 26, 2018</td>\n",
       "      <td>Varies with device</td>\n",
       "      <td>Varies with device</td>\n",
       "    </tr>\n",
       "    <tr>\n",
       "      <th>3</th>\n",
       "      <td>Storm Radar: Tornado Tracker &amp; Hurricane Alerts</td>\n",
       "      <td>WEATHER</td>\n",
       "      <td>4.6</td>\n",
       "      <td>89868.0</td>\n",
       "      <td>Varies with device</td>\n",
       "      <td>1,000,000+</td>\n",
       "      <td>Free</td>\n",
       "      <td>0</td>\n",
       "      <td>Everyone</td>\n",
       "      <td>Weather</td>\n",
       "      <td>June 12, 2018</td>\n",
       "      <td>Varies with device</td>\n",
       "      <td>Varies with device</td>\n",
       "    </tr>\n",
       "    <tr>\n",
       "      <th>4</th>\n",
       "      <td>Weather From DMI/YR</td>\n",
       "      <td>WEATHER</td>\n",
       "      <td>4.3</td>\n",
       "      <td>2143.0</td>\n",
       "      <td>Varies with device</td>\n",
       "      <td>100,000+</td>\n",
       "      <td>Free</td>\n",
       "      <td>0</td>\n",
       "      <td>Everyone</td>\n",
       "      <td>Weather</td>\n",
       "      <td>July 31, 2018</td>\n",
       "      <td>Varies with device</td>\n",
       "      <td>Varies with device</td>\n",
       "    </tr>\n",
       "  </tbody>\n",
       "</table>\n",
       "</div>"
      ],
      "text/plain": [
       "                                               App Category  Rating   Reviews  \\\n",
       "0                                     Weather Live  WEATHER     4.5   76593.0   \n",
       "1                  Weather by WeatherBug: Forecast  WEATHER     4.5  981995.0   \n",
       "2                                     SMHI Weather  WEATHER     3.5   11297.0   \n",
       "3  Storm Radar: Tornado Tracker & Hurricane Alerts  WEATHER     4.6   89868.0   \n",
       "4                              Weather From DMI/YR  WEATHER     4.3    2143.0   \n",
       "\n",
       "                 Size     Installs  Type  Price Content Rating   Genres  \\\n",
       "0  Varies with device     500,000+  Paid  $5.99       Everyone  Weather   \n",
       "1  Varies with device  10,000,000+  Free      0       Everyone  Weather   \n",
       "2  Varies with device   1,000,000+  Free      0       Everyone  Weather   \n",
       "3  Varies with device   1,000,000+  Free      0       Everyone  Weather   \n",
       "4  Varies with device     100,000+  Free      0       Everyone  Weather   \n",
       "\n",
       "        Last Updated         Current Ver         Android Ver  \n",
       "0  November 21, 2017  Varies with device  Varies with device  \n",
       "1       June 7, 2018  Varies with device  Varies with device  \n",
       "2      June 26, 2018  Varies with device  Varies with device  \n",
       "3      June 12, 2018  Varies with device  Varies with device  \n",
       "4      July 31, 2018  Varies with device  Varies with device  "
      ]
     },
     "execution_count": 930,
     "metadata": {},
     "output_type": "execute_result"
    }
   ],
   "source": [
    "df=pd.read_csv('data/googleplaystore.csv', sep=';')\n",
    "df.head()"
   ]
  },
  {
   "cell_type": "code",
   "execution_count": 931,
   "id": "140c59a8",
   "metadata": {},
   "outputs": [
    {
     "name": "stdout",
     "output_type": "stream",
     "text": [
      "<class 'pandas.core.frame.DataFrame'>\n",
      "RangeIndex: 10841 entries, 0 to 10840\n",
      "Data columns (total 13 columns):\n",
      " #   Column          Non-Null Count  Dtype  \n",
      "---  ------          --------------  -----  \n",
      " 0   App             10841 non-null  object \n",
      " 1   Category        10841 non-null  object \n",
      " 2   Rating          9368 non-null   float64\n",
      " 3   Reviews         10840 non-null  float64\n",
      " 4   Size            10841 non-null  object \n",
      " 5   Installs        10841 non-null  object \n",
      " 6   Type            10841 non-null  object \n",
      " 7   Price           10841 non-null  object \n",
      " 8   Content Rating  10840 non-null  object \n",
      " 9   Genres          10840 non-null  object \n",
      " 10  Last Updated    10335 non-null  object \n",
      " 11  Current Ver     10317 non-null  object \n",
      " 12  Android Ver     10284 non-null  object \n",
      "dtypes: float64(2), object(11)\n",
      "memory usage: 1.1+ MB\n"
     ]
    }
   ],
   "source": [
    "df.info()"
   ]
  },
  {
   "cell_type": "code",
   "execution_count": 932,
   "id": "61ff3342",
   "metadata": {},
   "outputs": [
    {
     "data": {
      "text/plain": [
       "(10841, 13)"
      ]
     },
     "execution_count": 932,
     "metadata": {},
     "output_type": "execute_result"
    }
   ],
   "source": [
    "df.shape"
   ]
  },
  {
   "cell_type": "markdown",
   "id": "e52ef578",
   "metadata": {},
   "source": [
    "The dataset has 10841 rows and 13 columns."
   ]
  },
  {
   "cell_type": "markdown",
   "id": "fead7259",
   "metadata": {},
   "source": [
    "### Data dictionary"
   ]
  },
  {
   "cell_type": "markdown",
   "id": "ccee4613",
   "metadata": {},
   "source": [
    "The dataset contains information for 10,000+ apps on the Google-Play store. The thirteen features in the dataset are:\n",
    "\n",
    "- `App`: application name\n",
    "- `Category`: primary use of app\n",
    "- `Rating`: 1 to 5 star\n",
    "- `Reviews`: number of user reviews\n",
    "- `Size`: in Mbs\n",
    "- `Installs`: number of downloads\n",
    "- `Type`: paid or free\n",
    "- `Price`: $ for paid apps\n",
    "- `Content` rating: targeted age group\n",
    "- `Genres`: a subdivision of `Category`\n",
    "- `Last updated`: date of last updated entry in the database\n",
    "- `Current version`: latest version on Play Store\n",
    "- `Android version`: latest android version"
   ]
  },
  {
   "cell_type": "markdown",
   "id": "f600f707",
   "metadata": {},
   "source": [
    "## Data wrangling "
   ]
  },
  {
   "cell_type": "markdown",
   "id": "8b35ec19",
   "metadata": {},
   "source": [
    "The following issues need to addressed during this phase and before conducting any analysis: \n",
    "1. Check for duplicates. \n",
    "2. Check reasons for null values in `rating`, `last updated`, `current version` and `android version`.  \n",
    "3. Analyze if `Category`and `Genre` provide the same information.\n",
    "4. Price should be a float not an object"
   ]
  },
  {
   "cell_type": "markdown",
   "id": "1fbcb6ab",
   "metadata": {},
   "source": [
    "### Checking for duplicates"
   ]
  },
  {
   "cell_type": "code",
   "execution_count": 933,
   "id": "f831e3b7",
   "metadata": {},
   "outputs": [
    {
     "data": {
      "text/plain": [
       "482"
      ]
     },
     "execution_count": 933,
     "metadata": {},
     "output_type": "execute_result"
    }
   ],
   "source": [
    "df.duplicated().sum()"
   ]
  },
  {
   "cell_type": "code",
   "execution_count": 934,
   "id": "5af353a9",
   "metadata": {},
   "outputs": [
    {
     "data": {
      "text/plain": [
       "0.04446084309565538"
      ]
     },
     "execution_count": 934,
     "metadata": {},
     "output_type": "execute_result"
    }
   ],
   "source": [
    "482/len(df)"
   ]
  },
  {
   "cell_type": "markdown",
   "id": "e919693f",
   "metadata": {},
   "source": [
    "4.4% of the observations are duplicates. This is not a signigicant enough number to affect the analysis. The remaining dataset is large enough. I proceed to drop them. "
   ]
  },
  {
   "cell_type": "code",
   "execution_count": 935,
   "id": "ccbbf5e8",
   "metadata": {},
   "outputs": [],
   "source": [
    "df = df.drop_duplicates()"
   ]
  },
  {
   "cell_type": "code",
   "execution_count": 936,
   "id": "c16b1ed7",
   "metadata": {},
   "outputs": [
    {
     "data": {
      "text/plain": [
       "(10359, 13)"
      ]
     },
     "execution_count": 936,
     "metadata": {},
     "output_type": "execute_result"
    }
   ],
   "source": [
    "df.shape"
   ]
  },
  {
   "cell_type": "code",
   "execution_count": 937,
   "id": "ce40d30a",
   "metadata": {},
   "outputs": [],
   "source": [
    "## Reset the index to facilitate use of for loops later \n",
    "df = df.reset_index(drop=True)"
   ]
  },
  {
   "cell_type": "markdown",
   "id": "4418ce0b",
   "metadata": {},
   "source": [
    "### Check null values"
   ]
  },
  {
   "cell_type": "code",
   "execution_count": 938,
   "id": "3e362db6",
   "metadata": {},
   "outputs": [
    {
     "data": {
      "image/png": "[encoded data removed]",
      "text/plain": [
       "<Figure size 432x288 with 1 Axes>"
      ]
     },
     "metadata": {
      "needs_background": "light"
     },
     "output_type": "display_data"
    }
   ],
   "source": [
    "# Check the null count in each row \n",
    "# Create a histogram for easier visualization\n",
    "plt.figure()\n",
    "plt.hist(df.isna().sum(axis=1))\n",
    "plt.xlabel('Null value count')\n",
    "plt.ylabel('Number of rows')\n",
    "plt.show()"
   ]
  },
  {
   "cell_type": "markdown",
   "id": "f083c010",
   "metadata": {},
   "source": [
    "Very few rows have more than two missing values. Most ~8000, have only one missing value. At this moment, no dropping of rows is necessary. I will check again once I perform additional analysis of each individual variabale. "
   ]
  },
  {
   "cell_type": "code",
   "execution_count": 939,
   "id": "c1b425ee",
   "metadata": {},
   "outputs": [
    {
     "data": {
      "text/plain": [
       "App                  0\n",
       "Category             0\n",
       "Rating            1464\n",
       "Reviews              1\n",
       "Size                 0\n",
       "Installs             0\n",
       "Type                 0\n",
       "Price                0\n",
       "Content Rating       1\n",
       "Genres               1\n",
       "Last Updated       470\n",
       "Current Ver        487\n",
       "Android Ver        515\n",
       "dtype: int64"
      ]
     },
     "execution_count": 939,
     "metadata": {},
     "output_type": "execute_result"
    }
   ],
   "source": [
    "# Check for null count in each column\n",
    "df.isna().sum(axis=0)"
   ]
  },
  {
   "cell_type": "markdown",
   "id": "ff024891",
   "metadata": {},
   "source": [
    "Rating is the most important variable in this analysis. Nearly 14% of the observations have null values. Let's look closer at the rating variable. "
   ]
  },
  {
   "cell_type": "markdown",
   "id": "970ccb7b",
   "metadata": {},
   "source": [
    "#### Focusing on Rating"
   ]
  },
  {
   "cell_type": "code",
   "execution_count": 940,
   "id": "b1209da3",
   "metadata": {},
   "outputs": [],
   "source": [
    "## Creating a dataframe with only these NaN observations\n",
    "dfNaN=df[df['Rating'].isna()]"
   ]
  },
  {
   "cell_type": "code",
   "execution_count": 941,
   "id": "af0169f9",
   "metadata": {},
   "outputs": [
    {
     "name": "stdout",
     "output_type": "stream",
     "text": [
      "<class 'pandas.core.frame.DataFrame'>\n",
      "Int64Index: 1464 entries, 10 to 10355\n",
      "Data columns (total 13 columns):\n",
      " #   Column          Non-Null Count  Dtype  \n",
      "---  ------          --------------  -----  \n",
      " 0   App             1464 non-null   object \n",
      " 1   Category        1464 non-null   object \n",
      " 2   Rating          0 non-null      float64\n",
      " 3   Reviews         1464 non-null   float64\n",
      " 4   Size            1464 non-null   object \n",
      " 5   Installs        1464 non-null   object \n",
      " 6   Type            1464 non-null   object \n",
      " 7   Price           1464 non-null   object \n",
      " 8   Content Rating  1464 non-null   object \n",
      " 9   Genres          1464 non-null   object \n",
      " 10  Last Updated    1449 non-null   object \n",
      " 11  Current Ver     1444 non-null   object \n",
      " 12  Android Ver     1448 non-null   object \n",
      "dtypes: float64(2), object(11)\n",
      "memory usage: 160.1+ KB\n"
     ]
    }
   ],
   "source": [
    "dfNaN.info()"
   ]
  },
  {
   "cell_type": "code",
   "execution_count": 942,
   "id": "12184170",
   "metadata": {},
   "outputs": [],
   "source": [
    "dist_nan=dfNaN['Category'].value_counts()"
   ]
  },
  {
   "cell_type": "code",
   "execution_count": 943,
   "id": "dd6be1e9",
   "metadata": {},
   "outputs": [
    {
     "data": {
      "text/plain": [
       "FAMILY                 225\n",
       "BUSINESS               157\n",
       "TOOLS                  109\n",
       "MEDICAL                106\n",
       "PERSONALIZATION         78\n",
       "PRODUCTIVITY            73\n",
       "LIFESTYLE               68\n",
       "SPORTS                  65\n",
       "COMMUNICATION           59\n",
       "BOOKS_AND_REFERENCE     53\n",
       "NEWS_AND_MAGAZINES      50\n",
       "GAME                    47\n",
       "HEALTH_AND_FITNESS      44\n",
       "FINANCE                 43\n",
       "SOCIAL                  36\n",
       "DATING                  36\n",
       "TRAVEL_AND_LOCAL        32\n",
       "SHOPPING                22\n",
       "LIBRARIES_AND_DEMO      20\n",
       "EVENTS                  19\n",
       "FOOD_AND_DRINK          18\n",
       "PHOTOGRAPHY             18\n",
       "VIDEO_PLAYERS           15\n",
       "MAPS_AND_NAVIGATION     13\n",
       "HOUSE_AND_HOME          12\n",
       "AUTO_AND_VEHICLES       12\n",
       "BEAUTY                  11\n",
       "PARENTING               10\n",
       "WEATHER                  7\n",
       "ART_AND_DESIGN           3\n",
       "COMICS                   2\n",
       "EDUCATION                1\n",
       "Name: Category, dtype: int64"
      ]
     },
     "execution_count": 943,
     "metadata": {},
     "output_type": "execute_result"
    }
   ],
   "source": [
    "dist_nan"
   ]
  },
  {
   "cell_type": "markdown",
   "id": "0f56a2f5",
   "metadata": {},
   "source": [
    "Let's take a quick look at the distributions of the NaN dataset and the original dataset with a pie chart. "
   ]
  },
  {
   "cell_type": "code",
   "execution_count": 944,
   "id": "364ad8ef",
   "metadata": {},
   "outputs": [
    {
     "data": {
      "image/png": "[encoded data removed]",
      "text/plain": [
       "<Figure size 1080x720 with 1 Axes>"
      ]
     },
     "metadata": {},
     "output_type": "display_data"
    }
   ],
   "source": [
    "NaNpie=dist_nan.plot.pie(startangle=90, figsize=(15,10))"
   ]
  },
  {
   "cell_type": "code",
   "execution_count": 945,
   "id": "c96fb9e3",
   "metadata": {},
   "outputs": [
    {
     "data": {
      "image/png": "[encoded data removed]",
      "text/plain": [
       "<Figure size 1080x720 with 1 Axes>"
      ]
     },
     "metadata": {},
     "output_type": "display_data"
    }
   ],
   "source": [
    "dfpie=df['Category'].value_counts().plot.pie(startangle=90, figsize=(15,10))"
   ]
  },
  {
   "cell_type": "markdown",
   "id": "ff9c026e",
   "metadata": {},
   "source": [
    "The top ~50% of both pies have the same categories\n",
    "- Family\n",
    "- Game\n",
    "- Tools\n",
    "- Business\n",
    "- Medical \n",
    "- Productivity\n",
    "- Personalization \n",
    "- Lifestyle\n",
    "\n",
    "To dive deeper, I propose  two approaches: \n",
    "\n",
    "- First approach: drop all observations with null variables \n",
    "- Second approach: replace them with the median or mean rating for a particular category. \n",
    "\n",
    "Let's compare the resulting datasets to see which one seems more appropriate for the purpose of the analysis.  "
   ]
  },
  {
   "cell_type": "code",
   "execution_count": 946,
   "id": "32ff4357",
   "metadata": {},
   "outputs": [],
   "source": [
    "## First approach: dropping all rows with NaN ratings\n",
    "df1=df.drop(df[df['Rating'].isna()].index)"
   ]
  },
  {
   "cell_type": "code",
   "execution_count": 947,
   "id": "eed22fee",
   "metadata": {},
   "outputs": [],
   "source": [
    "## Reset the index to facilitate use of for loops later \n",
    "df1 = df1.reset_index(drop=True)"
   ]
  },
  {
   "cell_type": "code",
   "execution_count": 948,
   "id": "adf69cfa",
   "metadata": {},
   "outputs": [
    {
     "name": "stdout",
     "output_type": "stream",
     "text": [
      "<class 'pandas.core.frame.DataFrame'>\n",
      "RangeIndex: 8895 entries, 0 to 8894\n",
      "Data columns (total 13 columns):\n",
      " #   Column          Non-Null Count  Dtype  \n",
      "---  ------          --------------  -----  \n",
      " 0   App             8895 non-null   object \n",
      " 1   Category        8895 non-null   object \n",
      " 2   Rating          8895 non-null   float64\n",
      " 3   Reviews         8894 non-null   float64\n",
      " 4   Size            8895 non-null   object \n",
      " 5   Installs        8895 non-null   object \n",
      " 6   Type            8895 non-null   object \n",
      " 7   Price           8895 non-null   object \n",
      " 8   Content Rating  8894 non-null   object \n",
      " 9   Genres          8894 non-null   object \n",
      " 10  Last Updated    8440 non-null   object \n",
      " 11  Current Ver     8428 non-null   object \n",
      " 12  Android Ver     8396 non-null   object \n",
      "dtypes: float64(2), object(11)\n",
      "memory usage: 903.5+ KB\n"
     ]
    }
   ],
   "source": [
    "df1.info()"
   ]
  },
  {
   "cell_type": "markdown",
   "id": "fff8dffb",
   "metadata": {},
   "source": [
    "The dataframe is now down to 8895 observations. "
   ]
  },
  {
   "cell_type": "code",
   "execution_count": 949,
   "id": "49610ee3",
   "metadata": {},
   "outputs": [],
   "source": [
    "## Calculating the mean for each category for future comparison with the second approach\n",
    "avg_without=df1.groupby('Category').mean()['Rating']"
   ]
  },
  {
   "cell_type": "code",
   "execution_count": 950,
   "id": "7481b7af",
   "metadata": {},
   "outputs": [
    {
     "data": {
      "text/plain": [
       "Category\n",
       "ART_AND_DESIGN         4.358065\n",
       "AUTO_AND_VEHICLES      4.190411\n",
       "BEAUTY                 4.278571\n",
       "BOOKS_AND_REFERENCE    4.347458\n",
       "BUSINESS               4.102593\n",
       "COMICS                 4.155172\n",
       "COMMUNICATION          4.151466\n",
       "DATING                 3.972671\n",
       "EDUCATION              4.375969\n",
       "ENTERTAINMENT          4.136036\n",
       "EVENTS                 4.435556\n",
       "FAMILY                 4.191153\n",
       "FINANCE                4.127445\n",
       "FOOD_AND_DRINK         4.164151\n",
       "GAME                   4.281285\n",
       "HEALTH_AND_FITNESS     4.261450\n",
       "HOUSE_AND_HOME         4.164706\n",
       "LIBRARIES_AND_DEMO     4.178462\n",
       "LIFESTYLE              4.096066\n",
       "MAPS_AND_NAVIGATION    4.051613\n",
       "MEDICAL                4.182450\n",
       "NEWS_AND_MAGAZINES     4.128505\n",
       "PARENTING              4.300000\n",
       "PERSONALIZATION        4.333871\n",
       "PHOTOGRAPHY            4.175410\n",
       "PRODUCTIVITY           4.201796\n",
       "SHOPPING               4.251485\n",
       "SOCIAL                 4.254918\n",
       "SPORTS                 4.225175\n",
       "TOOLS                  4.047411\n",
       "TRAVEL_AND_LOCAL       4.094146\n",
       "VIDEO_PLAYERS          4.063750\n",
       "WEATHER                4.244000\n",
       "Name: Rating, dtype: float64"
      ]
     },
     "execution_count": 950,
     "metadata": {},
     "output_type": "execute_result"
    }
   ],
   "source": [
    "avg_without"
   ]
  },
  {
   "cell_type": "code",
   "execution_count": 951,
   "id": "51f7c072",
   "metadata": {},
   "outputs": [
    {
     "name": "stdout",
     "output_type": "stream",
     "text": [
      "Median: 4.3\n",
      "Mode: 0    4.4\n",
      "dtype: float64\n"
     ]
    }
   ],
   "source": [
    "## Second approach: inputing the mean or median of each category to NaN\n",
    "# We'll fill with some measure of central tendency\n",
    "print('Median:', df['Rating'].median())\n",
    "print('Mode:', df['Rating'].mode())"
   ]
  },
  {
   "cell_type": "code",
   "execution_count": 952,
   "id": "88cee443",
   "metadata": {},
   "outputs": [
    {
     "data": {
      "image/png": "[encoded data removed]",
      "text/plain": [
       "<Figure size 432x288 with 1 Axes>"
      ]
     },
     "metadata": {
      "needs_background": "light"
     },
     "output_type": "display_data"
    }
   ],
   "source": [
    "# Lets look at a histogram to check for skew\n",
    "plt.figure()\n",
    "plt.hist(df['Rating'], bins=10)\n",
    "plt.xlabel('Rating')\n",
    "plt.ylabel('Frequency')\n",
    "plt.title('Histogram of age values')\n",
    "plt.show()"
   ]
  },
  {
   "cell_type": "markdown",
   "id": "673ea3cc",
   "metadata": {},
   "source": [
    "The distribution has a left skew. The median and mode are more representative of the distribution. Apps with really bad ratings lower the average and create the skew. To keep this same criteria at the category level, I'll impute the median value of each category to the missing ratings.  "
   ]
  },
  {
   "cell_type": "code",
   "execution_count": 953,
   "id": "0fdb6c1e",
   "metadata": {},
   "outputs": [],
   "source": [
    "median_without = df1.groupby('Category').median()['Rating']"
   ]
  },
  {
   "cell_type": "code",
   "execution_count": 954,
   "id": "888a229e",
   "metadata": {},
   "outputs": [
    {
     "data": {
      "text/plain": [
       "Category\n",
       "ART_AND_DESIGN         4.40\n",
       "AUTO_AND_VEHICLES      4.30\n",
       "BEAUTY                 4.30\n",
       "BOOKS_AND_REFERENCE    4.50\n",
       "BUSINESS               4.25\n",
       "COMICS                 4.40\n",
       "COMMUNICATION          4.30\n",
       "DATING                 4.10\n",
       "EDUCATION              4.40\n",
       "ENTERTAINMENT          4.20\n",
       "EVENTS                 4.50\n",
       "FAMILY                 4.30\n",
       "FINANCE                4.30\n",
       "FOOD_AND_DRINK         4.30\n",
       "GAME                   4.30\n",
       "HEALTH_AND_FITNESS     4.50\n",
       "HOUSE_AND_HOME         4.20\n",
       "LIBRARIES_AND_DEMO     4.20\n",
       "LIFESTYLE              4.20\n",
       "MAPS_AND_NAVIGATION    4.20\n",
       "MEDICAL                4.30\n",
       "NEWS_AND_MAGAZINES     4.20\n",
       "PARENTING              4.40\n",
       "PERSONALIZATION        4.40\n",
       "PHOTOGRAPHY            4.30\n",
       "PRODUCTIVITY           4.30\n",
       "SHOPPING               4.30\n",
       "SOCIAL                 4.30\n",
       "SPORTS                 4.30\n",
       "TOOLS                  4.20\n",
       "TRAVEL_AND_LOCAL       4.20\n",
       "VIDEO_PLAYERS          4.20\n",
       "WEATHER                4.30\n",
       "Name: Rating, dtype: float64"
      ]
     },
     "execution_count": 954,
     "metadata": {},
     "output_type": "execute_result"
    }
   ],
   "source": [
    "median_without"
   ]
  },
  {
   "cell_type": "code",
   "execution_count": 955,
   "id": "5e0748cf",
   "metadata": {},
   "outputs": [
    {
     "data": {
      "text/plain": [
       "Index(['ART_AND_DESIGN', 'AUTO_AND_VEHICLES', 'BEAUTY', 'BOOKS_AND_REFERENCE',\n",
       "       'BUSINESS', 'COMICS', 'COMMUNICATION', 'DATING', 'EDUCATION',\n",
       "       'ENTERTAINMENT', 'EVENTS', 'FAMILY', 'FINANCE', 'FOOD_AND_DRINK',\n",
       "       'GAME', 'HEALTH_AND_FITNESS', 'HOUSE_AND_HOME', 'LIBRARIES_AND_DEMO',\n",
       "       'LIFESTYLE', 'MAPS_AND_NAVIGATION', 'MEDICAL', 'NEWS_AND_MAGAZINES',\n",
       "       'PARENTING', 'PERSONALIZATION', 'PHOTOGRAPHY', 'PRODUCTIVITY',\n",
       "       'SHOPPING', 'SOCIAL', 'SPORTS', 'TOOLS', 'TRAVEL_AND_LOCAL',\n",
       "       'VIDEO_PLAYERS', 'WEATHER'],\n",
       "      dtype='object', name='Category')"
      ]
     },
     "execution_count": 955,
     "metadata": {},
     "output_type": "execute_result"
    }
   ],
   "source": [
    "## Creating a dictionary with these values to iterate afterwards\n",
    "median_without.index"
   ]
  },
  {
   "cell_type": "code",
   "execution_count": 956,
   "id": "f01a92c6",
   "metadata": {},
   "outputs": [],
   "source": [
    "categories=list(median_without.index)"
   ]
  },
  {
   "cell_type": "code",
   "execution_count": 957,
   "id": "bf2af807",
   "metadata": {},
   "outputs": [
    {
     "data": {
      "text/plain": [
       "['ART_AND_DESIGN',\n",
       " 'AUTO_AND_VEHICLES',\n",
       " 'BEAUTY',\n",
       " 'BOOKS_AND_REFERENCE',\n",
       " 'BUSINESS',\n",
       " 'COMICS',\n",
       " 'COMMUNICATION',\n",
       " 'DATING',\n",
       " 'EDUCATION',\n",
       " 'ENTERTAINMENT',\n",
       " 'EVENTS',\n",
       " 'FAMILY',\n",
       " 'FINANCE',\n",
       " 'FOOD_AND_DRINK',\n",
       " 'GAME',\n",
       " 'HEALTH_AND_FITNESS',\n",
       " 'HOUSE_AND_HOME',\n",
       " 'LIBRARIES_AND_DEMO',\n",
       " 'LIFESTYLE',\n",
       " 'MAPS_AND_NAVIGATION',\n",
       " 'MEDICAL',\n",
       " 'NEWS_AND_MAGAZINES',\n",
       " 'PARENTING',\n",
       " 'PERSONALIZATION',\n",
       " 'PHOTOGRAPHY',\n",
       " 'PRODUCTIVITY',\n",
       " 'SHOPPING',\n",
       " 'SOCIAL',\n",
       " 'SPORTS',\n",
       " 'TOOLS',\n",
       " 'TRAVEL_AND_LOCAL',\n",
       " 'VIDEO_PLAYERS',\n",
       " 'WEATHER']"
      ]
     },
     "execution_count": 957,
     "metadata": {},
     "output_type": "execute_result"
    }
   ],
   "source": [
    "categories"
   ]
  },
  {
   "cell_type": "code",
   "execution_count": 958,
   "id": "edd324be",
   "metadata": {},
   "outputs": [],
   "source": [
    "## Creating an empty dictionary\n",
    "dict1={}"
   ]
  },
  {
   "cell_type": "code",
   "execution_count": 959,
   "id": "da3a54dd",
   "metadata": {},
   "outputs": [],
   "source": [
    "## Creating a for loop to fill the dictionary\n",
    "for i in range(len(categories)):\n",
    "    name=categories[i]\n",
    "    dict1[name]=median_without[i]"
   ]
  },
  {
   "cell_type": "code",
   "execution_count": 960,
   "id": "8be2ab45",
   "metadata": {},
   "outputs": [
    {
     "data": {
      "text/plain": [
       "{'ART_AND_DESIGN': 4.4,\n",
       " 'AUTO_AND_VEHICLES': 4.3,\n",
       " 'BEAUTY': 4.3,\n",
       " 'BOOKS_AND_REFERENCE': 4.5,\n",
       " 'BUSINESS': 4.25,\n",
       " 'COMICS': 4.4,\n",
       " 'COMMUNICATION': 4.3,\n",
       " 'DATING': 4.1,\n",
       " 'EDUCATION': 4.4,\n",
       " 'ENTERTAINMENT': 4.2,\n",
       " 'EVENTS': 4.5,\n",
       " 'FAMILY': 4.3,\n",
       " 'FINANCE': 4.3,\n",
       " 'FOOD_AND_DRINK': 4.3,\n",
       " 'GAME': 4.3,\n",
       " 'HEALTH_AND_FITNESS': 4.5,\n",
       " 'HOUSE_AND_HOME': 4.2,\n",
       " 'LIBRARIES_AND_DEMO': 4.2,\n",
       " 'LIFESTYLE': 4.2,\n",
       " 'MAPS_AND_NAVIGATION': 4.2,\n",
       " 'MEDICAL': 4.3,\n",
       " 'NEWS_AND_MAGAZINES': 4.2,\n",
       " 'PARENTING': 4.4,\n",
       " 'PERSONALIZATION': 4.4,\n",
       " 'PHOTOGRAPHY': 4.3,\n",
       " 'PRODUCTIVITY': 4.3,\n",
       " 'SHOPPING': 4.3,\n",
       " 'SOCIAL': 4.3,\n",
       " 'SPORTS': 4.3,\n",
       " 'TOOLS': 4.2,\n",
       " 'TRAVEL_AND_LOCAL': 4.2,\n",
       " 'VIDEO_PLAYERS': 4.2,\n",
       " 'WEATHER': 4.3}"
      ]
     },
     "execution_count": 960,
     "metadata": {},
     "output_type": "execute_result"
    }
   ],
   "source": [
    "## Checking that the dictionary is complete\n",
    "dict1"
   ]
  },
  {
   "cell_type": "code",
   "execution_count": 961,
   "id": "bde5481e",
   "metadata": {},
   "outputs": [],
   "source": [
    "## Creating a new dataframe to fill in the median values and not override the orignal df\n",
    "df2=df.copy()"
   ]
  },
  {
   "cell_type": "code",
   "execution_count": 962,
   "id": "215eea0c",
   "metadata": {},
   "outputs": [
    {
     "name": "stdout",
     "output_type": "stream",
     "text": [
      "<class 'pandas.core.frame.DataFrame'>\n",
      "RangeIndex: 10359 entries, 0 to 10358\n",
      "Data columns (total 13 columns):\n",
      " #   Column          Non-Null Count  Dtype  \n",
      "---  ------          --------------  -----  \n",
      " 0   App             10359 non-null  object \n",
      " 1   Category        10359 non-null  object \n",
      " 2   Rating          8895 non-null   float64\n",
      " 3   Reviews         10358 non-null  float64\n",
      " 4   Size            10359 non-null  object \n",
      " 5   Installs        10359 non-null  object \n",
      " 6   Type            10359 non-null  object \n",
      " 7   Price           10359 non-null  object \n",
      " 8   Content Rating  10358 non-null  object \n",
      " 9   Genres          10358 non-null  object \n",
      " 10  Last Updated    9889 non-null   object \n",
      " 11  Current Ver     9872 non-null   object \n",
      " 12  Android Ver     9844 non-null   object \n",
      "dtypes: float64(2), object(11)\n",
      "memory usage: 1.0+ MB\n"
     ]
    }
   ],
   "source": [
    "df2.info()"
   ]
  },
  {
   "cell_type": "code",
   "execution_count": 963,
   "id": "c68eb858",
   "metadata": {},
   "outputs": [],
   "source": [
    "## Filling out NaN with a dummy number\n",
    "df2['Rating'] = df2['Rating'].fillna(100)"
   ]
  },
  {
   "cell_type": "code",
   "execution_count": 964,
   "id": "06adfcb1",
   "metadata": {
    "scrolled": true
   },
   "outputs": [
    {
     "data": {
      "text/plain": [
       "0          4.5\n",
       "1          4.5\n",
       "2          3.5\n",
       "3          4.6\n",
       "4          4.3\n",
       "         ...  \n",
       "10354      4.5\n",
       "10355    100.0\n",
       "10356      4.3\n",
       "10357      4.4\n",
       "10358      4.1\n",
       "Name: Rating, Length: 10359, dtype: float64"
      ]
     },
     "execution_count": 964,
     "metadata": {},
     "output_type": "execute_result"
    }
   ],
   "source": [
    "df2['Rating']"
   ]
  },
  {
   "cell_type": "code",
   "execution_count": 965,
   "id": "5d29238f",
   "metadata": {},
   "outputs": [],
   "source": [
    "## replacing that dummy number in df2\n",
    "for i in range(10359):\n",
    "    if df2['Rating'][i]==100:\n",
    "        var_=df2['Category'][i]\n",
    "        df2['Rating'][i]=dict1[var_]"
   ]
  },
  {
   "cell_type": "code",
   "execution_count": 966,
   "id": "b0dcda48",
   "metadata": {},
   "outputs": [
    {
     "name": "stdout",
     "output_type": "stream",
     "text": [
      "<class 'pandas.core.frame.DataFrame'>\n",
      "RangeIndex: 10359 entries, 0 to 10358\n",
      "Data columns (total 13 columns):\n",
      " #   Column          Non-Null Count  Dtype  \n",
      "---  ------          --------------  -----  \n",
      " 0   App             10359 non-null  object \n",
      " 1   Category        10359 non-null  object \n",
      " 2   Rating          10359 non-null  float64\n",
      " 3   Reviews         10358 non-null  float64\n",
      " 4   Size            10359 non-null  object \n",
      " 5   Installs        10359 non-null  object \n",
      " 6   Type            10359 non-null  object \n",
      " 7   Price           10359 non-null  object \n",
      " 8   Content Rating  10358 non-null  object \n",
      " 9   Genres          10358 non-null  object \n",
      " 10  Last Updated    9889 non-null   object \n",
      " 11  Current Ver     9872 non-null   object \n",
      " 12  Android Ver     9844 non-null   object \n",
      "dtypes: float64(2), object(11)\n",
      "memory usage: 1.0+ MB\n"
     ]
    }
   ],
   "source": [
    "## The rating category is now complete\n",
    "df2.info()"
   ]
  },
  {
   "cell_type": "code",
   "execution_count": 967,
   "id": "a3202300",
   "metadata": {},
   "outputs": [
    {
     "data": {
      "text/plain": [
       "0        4.5\n",
       "1        4.5\n",
       "2        3.5\n",
       "3        4.6\n",
       "4        4.3\n",
       "        ... \n",
       "10354    4.5\n",
       "10355    4.4\n",
       "10356    4.3\n",
       "10357    4.4\n",
       "10358    4.1\n",
       "Name: Rating, Length: 10359, dtype: float64"
      ]
     },
     "execution_count": 967,
     "metadata": {},
     "output_type": "execute_result"
    }
   ],
   "source": [
    "## Replacement is complete. No 100s\n",
    "df2['Rating']"
   ]
  },
  {
   "cell_type": "markdown",
   "id": "b6754fce",
   "metadata": {},
   "source": [
    "I want to check if the average ratings per category in df1 (dropping observations) and df2 (inputing median for missing values) are different."
   ]
  },
  {
   "cell_type": "code",
   "execution_count": 968,
   "id": "5de3cab4",
   "metadata": {},
   "outputs": [],
   "source": [
    "avg_without_replacement = df1.groupby('Category').mean()['Rating']"
   ]
  },
  {
   "cell_type": "code",
   "execution_count": 969,
   "id": "4e6f5621",
   "metadata": {},
   "outputs": [],
   "source": [
    "avg_with_replacement = df2.groupby('Category').mean()['Rating']"
   ]
  },
  {
   "cell_type": "code",
   "execution_count": 970,
   "id": "3944028d",
   "metadata": {},
   "outputs": [],
   "source": [
    "diff=avg_without_replacement-avg_with_replacement"
   ]
  },
  {
   "cell_type": "code",
   "execution_count": 971,
   "id": "842e583c",
   "metadata": {},
   "outputs": [
    {
     "data": {
      "text/plain": [
       "-0.01487282443426776"
      ]
     },
     "execution_count": 971,
     "metadata": {},
     "output_type": "execute_result"
    }
   ],
   "source": [
    "diff.mean()"
   ]
  },
  {
   "cell_type": "markdown",
   "id": "cf74b278",
   "metadata": {},
   "source": [
    "The average difference is not trivial. The new dataset, on average, has a more positive spin than the dropped data set. Hence, I prefer to use df1, noting than the dropped observations could be a source of bias. However, using this inputed method, will certainly introduce a skew.  "
   ]
  },
  {
   "cell_type": "markdown",
   "id": "371eb73a",
   "metadata": {},
   "source": [
    "#### Focusing on other null values"
   ]
  },
  {
   "cell_type": "code",
   "execution_count": 972,
   "id": "ce0210cd",
   "metadata": {},
   "outputs": [
    {
     "name": "stdout",
     "output_type": "stream",
     "text": [
      "<class 'pandas.core.frame.DataFrame'>\n",
      "RangeIndex: 8895 entries, 0 to 8894\n",
      "Data columns (total 13 columns):\n",
      " #   Column          Non-Null Count  Dtype  \n",
      "---  ------          --------------  -----  \n",
      " 0   App             8895 non-null   object \n",
      " 1   Category        8895 non-null   object \n",
      " 2   Rating          8895 non-null   float64\n",
      " 3   Reviews         8894 non-null   float64\n",
      " 4   Size            8895 non-null   object \n",
      " 5   Installs        8895 non-null   object \n",
      " 6   Type            8895 non-null   object \n",
      " 7   Price           8895 non-null   object \n",
      " 8   Content Rating  8894 non-null   object \n",
      " 9   Genres          8894 non-null   object \n",
      " 10  Last Updated    8440 non-null   object \n",
      " 11  Current Ver     8428 non-null   object \n",
      " 12  Android Ver     8396 non-null   object \n",
      "dtypes: float64(2), object(11)\n",
      "memory usage: 903.5+ KB\n"
     ]
    }
   ],
   "source": [
    "## For the rest of the notebook, I'll be working with df1, the dataset that dropped the ~1400 missing ratings\n",
    "df1.info()"
   ]
  },
  {
   "cell_type": "code",
   "execution_count": 973,
   "id": "60ede6f7",
   "metadata": {},
   "outputs": [
    {
     "data": {
      "text/plain": [
       "August 3, 2018        272\n",
       "July 31, 2018         239\n",
       "August 1, 2018        239\n",
       "August 2, 2018        238\n",
       "July 30, 2018         178\n",
       "                     ... \n",
       "August 13, 2017         1\n",
       "August 18, 2017         1\n",
       "April 14, 2015          1\n",
       "September 19, 2013      1\n",
       "February 16, 2016       1\n",
       "Name: Last Updated, Length: 1280, dtype: int64"
      ]
     },
     "execution_count": 973,
     "metadata": {},
     "output_type": "execute_result"
    }
   ],
   "source": [
    "# Last Updated#\n",
    "df1['Last Updated'].value_counts()"
   ]
  },
  {
   "cell_type": "code",
   "execution_count": 974,
   "id": "911c9ca3",
   "metadata": {},
   "outputs": [
    {
     "data": {
      "text/plain": [
       "1280"
      ]
     },
     "execution_count": 974,
     "metadata": {},
     "output_type": "execute_result"
    }
   ],
   "source": [
    "df1['Last Updated'].nunique()"
   ]
  },
  {
   "cell_type": "markdown",
   "id": "7fe1dbfc",
   "metadata": {},
   "source": [
    "Aside from the 1280 unique values, i.e. unique dates, this feature also has 454 missing values. For now, I do not have a specific question with regards to this variable. Dropping 454 observations might lose value information about `Rating`, `Category` and `Type`. Imputing values would be highly subjective, as the date is probably a random variable that could be any of the dates in the range.  "
   ]
  },
  {
   "cell_type": "code",
   "execution_count": 975,
   "id": "496419fe",
   "metadata": {},
   "outputs": [
    {
     "data": {
      "text/plain": [
       "Varies with device    1215\n",
       "1                      460\n",
       "1.1                    194\n",
       "1.2                    128\n",
       "2                      125\n",
       "                      ... \n",
       "6.4.8                    1\n",
       "2.10.7                   1\n",
       "1.2.21                   1\n",
       "5.9.7                    1\n",
       "10.2.0                   1\n",
       "Name: Current Ver, Length: 2493, dtype: int64"
      ]
     },
     "execution_count": 975,
     "metadata": {},
     "output_type": "execute_result"
    }
   ],
   "source": [
    "## Current Ver \n",
    "df1['Current Ver'].value_counts()"
   ]
  },
  {
   "cell_type": "markdown",
   "id": "b42ff796",
   "metadata": {},
   "source": [
    "Like the previous variable, dropping +400 observations might lose valuable information. Imputing values would be highly subjective, as the current version is probably a random variable that could be any of the versions in the column or a version that is not in the column. Hence, changes will be performed here. "
   ]
  },
  {
   "cell_type": "code",
   "execution_count": 976,
   "id": "571fa030",
   "metadata": {},
   "outputs": [
    {
     "data": {
      "text/plain": [
       "4.1 and up            1835\n",
       "Varies with device    1134\n",
       "4.0.3 and up          1116\n",
       "4.0 and up            1036\n",
       "4.4 and up             743\n",
       "2.3 and up             533\n",
       "5.0 and up             465\n",
       "4.2 and up             310\n",
       "2.3.3 and up           227\n",
       "3.0 and up             206\n",
       "2.2 and up             197\n",
       "4.3 and up             188\n",
       "2.1 and up             112\n",
       "1.6 and up              87\n",
       "6.0 and up              45\n",
       "7.0 and up              41\n",
       "3.2 and up              31\n",
       "2.0 and up              27\n",
       "1.5 and up              16\n",
       "5.1 and up              11\n",
       "3.1 and up               8\n",
       "2.0.1 and up             6\n",
       "4.4W and up              5\n",
       "8.0 and up               5\n",
       "7.1 and up               3\n",
       "5.0 - 8.0                2\n",
       "4.0.3 - 7.1.1            2\n",
       "1.0 and up               2\n",
       "4.1 - 7.1.1              1\n",
       "7.0 - 7.1.1              1\n",
       "5.0 - 6.0                1\n",
       "Name: Android Ver, dtype: int64"
      ]
     },
     "execution_count": 976,
     "metadata": {},
     "output_type": "execute_result"
    }
   ],
   "source": [
    "## Android Ver \n",
    "df1['Android Ver'].value_counts()"
   ]
  },
  {
   "cell_type": "markdown",
   "id": "b6456f2f",
   "metadata": {},
   "source": [
    "Same comment as the previous feature applies. No changes will be performed here."
   ]
  },
  {
   "cell_type": "code",
   "execution_count": 977,
   "id": "dd3f22a3",
   "metadata": {},
   "outputs": [
    {
     "data": {
      "text/plain": [
       "Everyone           7095\n",
       "Teen               1023\n",
       "Mature 17+          412\n",
       "Everyone 10+        360\n",
       "Adults only 18+       3\n",
       "Unrated               1\n",
       "Name: Content Rating, dtype: int64"
      ]
     },
     "execution_count": 977,
     "metadata": {},
     "output_type": "execute_result"
    }
   ],
   "source": [
    "## Content Rating\n",
    "df1['Content Rating'].value_counts()"
   ]
  },
  {
   "cell_type": "code",
   "execution_count": 978,
   "id": "f03b18f8",
   "metadata": {},
   "outputs": [
    {
     "data": {
      "text/html": [
       "<div>\n",
       "<style scoped>\n",
       "    .dataframe tbody tr th:only-of-type {\n",
       "        vertical-align: middle;\n",
       "    }\n",
       "\n",
       "    .dataframe tbody tr th {\n",
       "        vertical-align: top;\n",
       "    }\n",
       "\n",
       "    .dataframe thead th {\n",
       "        text-align: right;\n",
       "    }\n",
       "</style>\n",
       "<table border=\"1\" class=\"dataframe\">\n",
       "  <thead>\n",
       "    <tr style=\"text-align: right;\">\n",
       "      <th></th>\n",
       "      <th>App</th>\n",
       "      <th>Category</th>\n",
       "      <th>Rating</th>\n",
       "      <th>Reviews</th>\n",
       "      <th>Size</th>\n",
       "      <th>Installs</th>\n",
       "      <th>Type</th>\n",
       "      <th>Price</th>\n",
       "      <th>Content Rating</th>\n",
       "      <th>Genres</th>\n",
       "      <th>Last Updated</th>\n",
       "      <th>Current Ver</th>\n",
       "      <th>Android Ver</th>\n",
       "    </tr>\n",
       "  </thead>\n",
       "  <tbody>\n",
       "    <tr>\n",
       "      <th>1045</th>\n",
       "      <td>DC Universe Online Map</td>\n",
       "      <td>TOOLS</td>\n",
       "      <td>4.1</td>\n",
       "      <td>1186.0</td>\n",
       "      <td>6.4M</td>\n",
       "      <td>50,000+</td>\n",
       "      <td>Free</td>\n",
       "      <td>0</td>\n",
       "      <td>Unrated</td>\n",
       "      <td>Tools</td>\n",
       "      <td>February 27, 2012</td>\n",
       "      <td>1.3</td>\n",
       "      <td>2.3.3 and up</td>\n",
       "    </tr>\n",
       "  </tbody>\n",
       "</table>\n",
       "</div>"
      ],
      "text/plain": [
       "                         App Category  Rating  Reviews  Size Installs  Type  \\\n",
       "1045  DC Universe Online Map    TOOLS     4.1   1186.0  6.4M  50,000+  Free   \n",
       "\n",
       "     Price Content Rating Genres       Last Updated Current Ver   Android Ver  \n",
       "1045     0        Unrated  Tools  February 27, 2012         1.3  2.3.3 and up  "
      ]
     },
     "execution_count": 978,
     "metadata": {},
     "output_type": "execute_result"
    }
   ],
   "source": [
    "df1[(df1['Content Rating']=='Unrated')]"
   ]
  },
  {
   "cell_type": "code",
   "execution_count": 979,
   "id": "c5789b55",
   "metadata": {},
   "outputs": [
    {
     "data": {
      "text/html": [
       "<div>\n",
       "<style scoped>\n",
       "    .dataframe tbody tr th:only-of-type {\n",
       "        vertical-align: middle;\n",
       "    }\n",
       "\n",
       "    .dataframe tbody tr th {\n",
       "        vertical-align: top;\n",
       "    }\n",
       "\n",
       "    .dataframe thead th {\n",
       "        text-align: right;\n",
       "    }\n",
       "</style>\n",
       "<table border=\"1\" class=\"dataframe\">\n",
       "  <thead>\n",
       "    <tr style=\"text-align: right;\">\n",
       "      <th></th>\n",
       "      <th>App</th>\n",
       "      <th>Category</th>\n",
       "      <th>Rating</th>\n",
       "      <th>Reviews</th>\n",
       "      <th>Size</th>\n",
       "      <th>Installs</th>\n",
       "      <th>Type</th>\n",
       "      <th>Price</th>\n",
       "      <th>Content Rating</th>\n",
       "      <th>Genres</th>\n",
       "      <th>Last Updated</th>\n",
       "      <th>Current Ver</th>\n",
       "      <th>Android Ver</th>\n",
       "    </tr>\n",
       "  </thead>\n",
       "  <tbody>\n",
       "    <tr>\n",
       "      <th>4131</th>\n",
       "      <td>591 housing transactions - renting houses</td>\n",
       "      <td>HOUSE_AND_HOME</td>\n",
       "      <td>4.1</td>\n",
       "      <td>24977.0</td>\n",
       "      <td>21M</td>\n",
       "      <td>1,000,000+</td>\n",
       "      <td>Free</td>\n",
       "      <td>0</td>\n",
       "      <td>NaN</td>\n",
       "      <td>NaN</td>\n",
       "      <td>NaN</td>\n",
       "      <td>NaN</td>\n",
       "      <td>NaN</td>\n",
       "    </tr>\n",
       "  </tbody>\n",
       "</table>\n",
       "</div>"
      ],
      "text/plain": [
       "                                            App        Category  Rating  \\\n",
       "4131  591 housing transactions - renting houses  HOUSE_AND_HOME     4.1   \n",
       "\n",
       "      Reviews Size    Installs  Type Price Content Rating Genres Last Updated  \\\n",
       "4131  24977.0  21M  1,000,000+  Free     0            NaN    NaN          NaN   \n",
       "\n",
       "     Current Ver Android Ver  \n",
       "4131         NaN         NaN  "
      ]
     },
     "execution_count": 979,
     "metadata": {},
     "output_type": "execute_result"
    }
   ],
   "source": [
    "## Are there missing values \n",
    "df1[df1['Content Rating'].isna()]"
   ]
  },
  {
   "cell_type": "code",
   "execution_count": 980,
   "id": "07057781",
   "metadata": {},
   "outputs": [],
   "source": [
    "df1['Content Rating'] = df1['Content Rating'].fillna('Everyone')"
   ]
  },
  {
   "cell_type": "code",
   "execution_count": 981,
   "id": "36046800",
   "metadata": {},
   "outputs": [
    {
     "data": {
      "text/html": [
       "<div>\n",
       "<style scoped>\n",
       "    .dataframe tbody tr th:only-of-type {\n",
       "        vertical-align: middle;\n",
       "    }\n",
       "\n",
       "    .dataframe tbody tr th {\n",
       "        vertical-align: top;\n",
       "    }\n",
       "\n",
       "    .dataframe thead th {\n",
       "        text-align: right;\n",
       "    }\n",
       "</style>\n",
       "<table border=\"1\" class=\"dataframe\">\n",
       "  <thead>\n",
       "    <tr style=\"text-align: right;\">\n",
       "      <th></th>\n",
       "      <th>App</th>\n",
       "      <th>Category</th>\n",
       "      <th>Rating</th>\n",
       "      <th>Reviews</th>\n",
       "      <th>Size</th>\n",
       "      <th>Installs</th>\n",
       "      <th>Type</th>\n",
       "      <th>Price</th>\n",
       "      <th>Content Rating</th>\n",
       "      <th>Genres</th>\n",
       "      <th>Last Updated</th>\n",
       "      <th>Current Ver</th>\n",
       "      <th>Android Ver</th>\n",
       "    </tr>\n",
       "  </thead>\n",
       "  <tbody>\n",
       "  </tbody>\n",
       "</table>\n",
       "</div>"
      ],
      "text/plain": [
       "Empty DataFrame\n",
       "Columns: [App, Category, Rating, Reviews, Size, Installs, Type, Price, Content Rating, Genres, Last Updated, Current Ver, Android Ver]\n",
       "Index: []"
      ]
     },
     "execution_count": 981,
     "metadata": {},
     "output_type": "execute_result"
    }
   ],
   "source": [
    "df1[df1['Content Rating'].isna()]"
   ]
  },
  {
   "cell_type": "markdown",
   "id": "11460f4f",
   "metadata": {},
   "source": [
    "No more missing values"
   ]
  },
  {
   "cell_type": "markdown",
   "id": "adad1bcc",
   "metadata": {},
   "source": [
    "### Compare Category to Genre"
   ]
  },
  {
   "cell_type": "code",
   "execution_count": 982,
   "id": "9e1b92c3",
   "metadata": {},
   "outputs": [
    {
     "data": {
      "text/html": [
       "<div>\n",
       "<style scoped>\n",
       "    .dataframe tbody tr th:only-of-type {\n",
       "        vertical-align: middle;\n",
       "    }\n",
       "\n",
       "    .dataframe tbody tr th {\n",
       "        vertical-align: top;\n",
       "    }\n",
       "\n",
       "    .dataframe thead th {\n",
       "        text-align: right;\n",
       "    }\n",
       "</style>\n",
       "<table border=\"1\" class=\"dataframe\">\n",
       "  <thead>\n",
       "    <tr style=\"text-align: right;\">\n",
       "      <th></th>\n",
       "      <th>App</th>\n",
       "      <th>Category</th>\n",
       "      <th>Rating</th>\n",
       "      <th>Reviews</th>\n",
       "      <th>Size</th>\n",
       "      <th>Installs</th>\n",
       "      <th>Type</th>\n",
       "      <th>Price</th>\n",
       "      <th>Content Rating</th>\n",
       "      <th>Genres</th>\n",
       "      <th>Last Updated</th>\n",
       "      <th>Current Ver</th>\n",
       "      <th>Android Ver</th>\n",
       "    </tr>\n",
       "  </thead>\n",
       "  <tbody>\n",
       "    <tr>\n",
       "      <th>0</th>\n",
       "      <td>Weather Live</td>\n",
       "      <td>WEATHER</td>\n",
       "      <td>4.5</td>\n",
       "      <td>76593.0</td>\n",
       "      <td>Varies with device</td>\n",
       "      <td>500,000+</td>\n",
       "      <td>Paid</td>\n",
       "      <td>$5.99</td>\n",
       "      <td>Everyone</td>\n",
       "      <td>Weather</td>\n",
       "      <td>November 21, 2017</td>\n",
       "      <td>Varies with device</td>\n",
       "      <td>Varies with device</td>\n",
       "    </tr>\n",
       "    <tr>\n",
       "      <th>1</th>\n",
       "      <td>Weather by WeatherBug: Forecast</td>\n",
       "      <td>WEATHER</td>\n",
       "      <td>4.5</td>\n",
       "      <td>981995.0</td>\n",
       "      <td>Varies with device</td>\n",
       "      <td>10,000,000+</td>\n",
       "      <td>Free</td>\n",
       "      <td>0</td>\n",
       "      <td>Everyone</td>\n",
       "      <td>Weather</td>\n",
       "      <td>June 7, 2018</td>\n",
       "      <td>Varies with device</td>\n",
       "      <td>Varies with device</td>\n",
       "    </tr>\n",
       "    <tr>\n",
       "      <th>2</th>\n",
       "      <td>SMHI Weather</td>\n",
       "      <td>WEATHER</td>\n",
       "      <td>3.5</td>\n",
       "      <td>11297.0</td>\n",
       "      <td>Varies with device</td>\n",
       "      <td>1,000,000+</td>\n",
       "      <td>Free</td>\n",
       "      <td>0</td>\n",
       "      <td>Everyone</td>\n",
       "      <td>Weather</td>\n",
       "      <td>June 26, 2018</td>\n",
       "      <td>Varies with device</td>\n",
       "      <td>Varies with device</td>\n",
       "    </tr>\n",
       "    <tr>\n",
       "      <th>3</th>\n",
       "      <td>Storm Radar: Tornado Tracker &amp; Hurricane Alerts</td>\n",
       "      <td>WEATHER</td>\n",
       "      <td>4.6</td>\n",
       "      <td>89868.0</td>\n",
       "      <td>Varies with device</td>\n",
       "      <td>1,000,000+</td>\n",
       "      <td>Free</td>\n",
       "      <td>0</td>\n",
       "      <td>Everyone</td>\n",
       "      <td>Weather</td>\n",
       "      <td>June 12, 2018</td>\n",
       "      <td>Varies with device</td>\n",
       "      <td>Varies with device</td>\n",
       "    </tr>\n",
       "    <tr>\n",
       "      <th>4</th>\n",
       "      <td>Weather From DMI/YR</td>\n",
       "      <td>WEATHER</td>\n",
       "      <td>4.3</td>\n",
       "      <td>2143.0</td>\n",
       "      <td>Varies with device</td>\n",
       "      <td>100,000+</td>\n",
       "      <td>Free</td>\n",
       "      <td>0</td>\n",
       "      <td>Everyone</td>\n",
       "      <td>Weather</td>\n",
       "      <td>July 31, 2018</td>\n",
       "      <td>Varies with device</td>\n",
       "      <td>Varies with device</td>\n",
       "    </tr>\n",
       "  </tbody>\n",
       "</table>\n",
       "</div>"
      ],
      "text/plain": [
       "                                               App Category  Rating   Reviews  \\\n",
       "0                                     Weather Live  WEATHER     4.5   76593.0   \n",
       "1                  Weather by WeatherBug: Forecast  WEATHER     4.5  981995.0   \n",
       "2                                     SMHI Weather  WEATHER     3.5   11297.0   \n",
       "3  Storm Radar: Tornado Tracker & Hurricane Alerts  WEATHER     4.6   89868.0   \n",
       "4                              Weather From DMI/YR  WEATHER     4.3    2143.0   \n",
       "\n",
       "                 Size     Installs  Type  Price Content Rating   Genres  \\\n",
       "0  Varies with device     500,000+  Paid  $5.99       Everyone  Weather   \n",
       "1  Varies with device  10,000,000+  Free      0       Everyone  Weather   \n",
       "2  Varies with device   1,000,000+  Free      0       Everyone  Weather   \n",
       "3  Varies with device   1,000,000+  Free      0       Everyone  Weather   \n",
       "4  Varies with device     100,000+  Free      0       Everyone  Weather   \n",
       "\n",
       "        Last Updated         Current Ver         Android Ver  \n",
       "0  November 21, 2017  Varies with device  Varies with device  \n",
       "1       June 7, 2018  Varies with device  Varies with device  \n",
       "2      June 26, 2018  Varies with device  Varies with device  \n",
       "3      June 12, 2018  Varies with device  Varies with device  \n",
       "4      July 31, 2018  Varies with device  Varies with device  "
      ]
     },
     "execution_count": 982,
     "metadata": {},
     "output_type": "execute_result"
    }
   ],
   "source": [
    "df1.head()"
   ]
  },
  {
   "cell_type": "code",
   "execution_count": 983,
   "id": "26824afd",
   "metadata": {},
   "outputs": [],
   "source": [
    "## Transform Genres to Upper Case to conduct a True-False test against Category\n",
    "df1['Genres']=df1['Genres'].str.upper()"
   ]
  },
  {
   "cell_type": "code",
   "execution_count": 984,
   "id": "caf55a8c",
   "metadata": {},
   "outputs": [
    {
     "data": {
      "text/html": [
       "<div>\n",
       "<style scoped>\n",
       "    .dataframe tbody tr th:only-of-type {\n",
       "        vertical-align: middle;\n",
       "    }\n",
       "\n",
       "    .dataframe tbody tr th {\n",
       "        vertical-align: top;\n",
       "    }\n",
       "\n",
       "    .dataframe thead th {\n",
       "        text-align: right;\n",
       "    }\n",
       "</style>\n",
       "<table border=\"1\" class=\"dataframe\">\n",
       "  <thead>\n",
       "    <tr style=\"text-align: right;\">\n",
       "      <th></th>\n",
       "      <th>App</th>\n",
       "      <th>Category</th>\n",
       "      <th>Rating</th>\n",
       "      <th>Reviews</th>\n",
       "      <th>Size</th>\n",
       "      <th>Installs</th>\n",
       "      <th>Type</th>\n",
       "      <th>Price</th>\n",
       "      <th>Content Rating</th>\n",
       "      <th>Genres</th>\n",
       "      <th>Last Updated</th>\n",
       "      <th>Current Ver</th>\n",
       "      <th>Android Ver</th>\n",
       "    </tr>\n",
       "  </thead>\n",
       "  <tbody>\n",
       "    <tr>\n",
       "      <th>0</th>\n",
       "      <td>Weather Live</td>\n",
       "      <td>WEATHER</td>\n",
       "      <td>4.5</td>\n",
       "      <td>76593.0</td>\n",
       "      <td>Varies with device</td>\n",
       "      <td>500,000+</td>\n",
       "      <td>Paid</td>\n",
       "      <td>$5.99</td>\n",
       "      <td>Everyone</td>\n",
       "      <td>WEATHER</td>\n",
       "      <td>November 21, 2017</td>\n",
       "      <td>Varies with device</td>\n",
       "      <td>Varies with device</td>\n",
       "    </tr>\n",
       "    <tr>\n",
       "      <th>1</th>\n",
       "      <td>Weather by WeatherBug: Forecast</td>\n",
       "      <td>WEATHER</td>\n",
       "      <td>4.5</td>\n",
       "      <td>981995.0</td>\n",
       "      <td>Varies with device</td>\n",
       "      <td>10,000,000+</td>\n",
       "      <td>Free</td>\n",
       "      <td>0</td>\n",
       "      <td>Everyone</td>\n",
       "      <td>WEATHER</td>\n",
       "      <td>June 7, 2018</td>\n",
       "      <td>Varies with device</td>\n",
       "      <td>Varies with device</td>\n",
       "    </tr>\n",
       "    <tr>\n",
       "      <th>2</th>\n",
       "      <td>SMHI Weather</td>\n",
       "      <td>WEATHER</td>\n",
       "      <td>3.5</td>\n",
       "      <td>11297.0</td>\n",
       "      <td>Varies with device</td>\n",
       "      <td>1,000,000+</td>\n",
       "      <td>Free</td>\n",
       "      <td>0</td>\n",
       "      <td>Everyone</td>\n",
       "      <td>WEATHER</td>\n",
       "      <td>June 26, 2018</td>\n",
       "      <td>Varies with device</td>\n",
       "      <td>Varies with device</td>\n",
       "    </tr>\n",
       "    <tr>\n",
       "      <th>3</th>\n",
       "      <td>Storm Radar: Tornado Tracker &amp; Hurricane Alerts</td>\n",
       "      <td>WEATHER</td>\n",
       "      <td>4.6</td>\n",
       "      <td>89868.0</td>\n",
       "      <td>Varies with device</td>\n",
       "      <td>1,000,000+</td>\n",
       "      <td>Free</td>\n",
       "      <td>0</td>\n",
       "      <td>Everyone</td>\n",
       "      <td>WEATHER</td>\n",
       "      <td>June 12, 2018</td>\n",
       "      <td>Varies with device</td>\n",
       "      <td>Varies with device</td>\n",
       "    </tr>\n",
       "    <tr>\n",
       "      <th>4</th>\n",
       "      <td>Weather From DMI/YR</td>\n",
       "      <td>WEATHER</td>\n",
       "      <td>4.3</td>\n",
       "      <td>2143.0</td>\n",
       "      <td>Varies with device</td>\n",
       "      <td>100,000+</td>\n",
       "      <td>Free</td>\n",
       "      <td>0</td>\n",
       "      <td>Everyone</td>\n",
       "      <td>WEATHER</td>\n",
       "      <td>July 31, 2018</td>\n",
       "      <td>Varies with device</td>\n",
       "      <td>Varies with device</td>\n",
       "    </tr>\n",
       "  </tbody>\n",
       "</table>\n",
       "</div>"
      ],
      "text/plain": [
       "                                               App Category  Rating   Reviews  \\\n",
       "0                                     Weather Live  WEATHER     4.5   76593.0   \n",
       "1                  Weather by WeatherBug: Forecast  WEATHER     4.5  981995.0   \n",
       "2                                     SMHI Weather  WEATHER     3.5   11297.0   \n",
       "3  Storm Radar: Tornado Tracker & Hurricane Alerts  WEATHER     4.6   89868.0   \n",
       "4                              Weather From DMI/YR  WEATHER     4.3    2143.0   \n",
       "\n",
       "                 Size     Installs  Type  Price Content Rating   Genres  \\\n",
       "0  Varies with device     500,000+  Paid  $5.99       Everyone  WEATHER   \n",
       "1  Varies with device  10,000,000+  Free      0       Everyone  WEATHER   \n",
       "2  Varies with device   1,000,000+  Free      0       Everyone  WEATHER   \n",
       "3  Varies with device   1,000,000+  Free      0       Everyone  WEATHER   \n",
       "4  Varies with device     100,000+  Free      0       Everyone  WEATHER   \n",
       "\n",
       "        Last Updated         Current Ver         Android Ver  \n",
       "0  November 21, 2017  Varies with device  Varies with device  \n",
       "1       June 7, 2018  Varies with device  Varies with device  \n",
       "2      June 26, 2018  Varies with device  Varies with device  \n",
       "3      June 12, 2018  Varies with device  Varies with device  \n",
       "4      July 31, 2018  Varies with device  Varies with device  "
      ]
     },
     "execution_count": 984,
     "metadata": {},
     "output_type": "execute_result"
    }
   ],
   "source": [
    "df1.head()"
   ]
  },
  {
   "cell_type": "code",
   "execution_count": 985,
   "id": "8ed52db6",
   "metadata": {},
   "outputs": [],
   "source": [
    "## Checking if they are not the same\n",
    "counter=0\n",
    "for i in range(8895):\n",
    "    if df1['Category'][i] != df1['Genres'][i]:\n",
    "        counter = counter+1"
   ]
  },
  {
   "cell_type": "code",
   "execution_count": 986,
   "id": "bab0609f",
   "metadata": {},
   "outputs": [
    {
     "data": {
      "text/plain": [
       "4308"
      ]
     },
     "execution_count": 986,
     "metadata": {},
     "output_type": "execute_result"
    }
   ],
   "source": [
    "counter"
   ]
  },
  {
   "cell_type": "markdown",
   "id": "3e3380b0",
   "metadata": {},
   "source": [
    "Nearly half of the observations are not the same. Hence, `Genres` remains in the dataset."
   ]
  },
  {
   "cell_type": "markdown",
   "id": "31665d47",
   "metadata": {},
   "source": [
    "### Transform Price to float"
   ]
  },
  {
   "cell_type": "markdown",
   "id": "cb734aa1",
   "metadata": {},
   "source": [
    "The main issue here is the $ sign before prices that are different to zero. i.e. where `Type` is 'paid'"
   ]
  },
  {
   "cell_type": "code",
   "execution_count": 987,
   "id": "1c96d8af",
   "metadata": {},
   "outputs": [],
   "source": [
    "## creating a new column for the number after the dollar sign\n",
    "df1['test'] = df1['Price'].str.split('$', expand=True).loc[:,1]"
   ]
  },
  {
   "cell_type": "code",
   "execution_count": 988,
   "id": "f5d69ac8",
   "metadata": {},
   "outputs": [
    {
     "data": {
      "text/html": [
       "<div>\n",
       "<style scoped>\n",
       "    .dataframe tbody tr th:only-of-type {\n",
       "        vertical-align: middle;\n",
       "    }\n",
       "\n",
       "    .dataframe tbody tr th {\n",
       "        vertical-align: top;\n",
       "    }\n",
       "\n",
       "    .dataframe thead th {\n",
       "        text-align: right;\n",
       "    }\n",
       "</style>\n",
       "<table border=\"1\" class=\"dataframe\">\n",
       "  <thead>\n",
       "    <tr style=\"text-align: right;\">\n",
       "      <th></th>\n",
       "      <th>App</th>\n",
       "      <th>Category</th>\n",
       "      <th>Rating</th>\n",
       "      <th>Reviews</th>\n",
       "      <th>Size</th>\n",
       "      <th>Installs</th>\n",
       "      <th>Type</th>\n",
       "      <th>Price</th>\n",
       "      <th>Content Rating</th>\n",
       "      <th>Genres</th>\n",
       "      <th>Last Updated</th>\n",
       "      <th>Current Ver</th>\n",
       "      <th>Android Ver</th>\n",
       "      <th>test</th>\n",
       "    </tr>\n",
       "  </thead>\n",
       "  <tbody>\n",
       "    <tr>\n",
       "      <th>0</th>\n",
       "      <td>Weather Live</td>\n",
       "      <td>WEATHER</td>\n",
       "      <td>4.5</td>\n",
       "      <td>76593.0</td>\n",
       "      <td>Varies with device</td>\n",
       "      <td>500,000+</td>\n",
       "      <td>Paid</td>\n",
       "      <td>$5.99</td>\n",
       "      <td>Everyone</td>\n",
       "      <td>WEATHER</td>\n",
       "      <td>November 21, 2017</td>\n",
       "      <td>Varies with device</td>\n",
       "      <td>Varies with device</td>\n",
       "      <td>5.99</td>\n",
       "    </tr>\n",
       "    <tr>\n",
       "      <th>1</th>\n",
       "      <td>Weather by WeatherBug: Forecast</td>\n",
       "      <td>WEATHER</td>\n",
       "      <td>4.5</td>\n",
       "      <td>981995.0</td>\n",
       "      <td>Varies with device</td>\n",
       "      <td>10,000,000+</td>\n",
       "      <td>Free</td>\n",
       "      <td>0</td>\n",
       "      <td>Everyone</td>\n",
       "      <td>WEATHER</td>\n",
       "      <td>June 7, 2018</td>\n",
       "      <td>Varies with device</td>\n",
       "      <td>Varies with device</td>\n",
       "      <td>None</td>\n",
       "    </tr>\n",
       "    <tr>\n",
       "      <th>2</th>\n",
       "      <td>SMHI Weather</td>\n",
       "      <td>WEATHER</td>\n",
       "      <td>3.5</td>\n",
       "      <td>11297.0</td>\n",
       "      <td>Varies with device</td>\n",
       "      <td>1,000,000+</td>\n",
       "      <td>Free</td>\n",
       "      <td>0</td>\n",
       "      <td>Everyone</td>\n",
       "      <td>WEATHER</td>\n",
       "      <td>June 26, 2018</td>\n",
       "      <td>Varies with device</td>\n",
       "      <td>Varies with device</td>\n",
       "      <td>None</td>\n",
       "    </tr>\n",
       "    <tr>\n",
       "      <th>3</th>\n",
       "      <td>Storm Radar: Tornado Tracker &amp; Hurricane Alerts</td>\n",
       "      <td>WEATHER</td>\n",
       "      <td>4.6</td>\n",
       "      <td>89868.0</td>\n",
       "      <td>Varies with device</td>\n",
       "      <td>1,000,000+</td>\n",
       "      <td>Free</td>\n",
       "      <td>0</td>\n",
       "      <td>Everyone</td>\n",
       "      <td>WEATHER</td>\n",
       "      <td>June 12, 2018</td>\n",
       "      <td>Varies with device</td>\n",
       "      <td>Varies with device</td>\n",
       "      <td>None</td>\n",
       "    </tr>\n",
       "    <tr>\n",
       "      <th>4</th>\n",
       "      <td>Weather From DMI/YR</td>\n",
       "      <td>WEATHER</td>\n",
       "      <td>4.3</td>\n",
       "      <td>2143.0</td>\n",
       "      <td>Varies with device</td>\n",
       "      <td>100,000+</td>\n",
       "      <td>Free</td>\n",
       "      <td>0</td>\n",
       "      <td>Everyone</td>\n",
       "      <td>WEATHER</td>\n",
       "      <td>July 31, 2018</td>\n",
       "      <td>Varies with device</td>\n",
       "      <td>Varies with device</td>\n",
       "      <td>None</td>\n",
       "    </tr>\n",
       "  </tbody>\n",
       "</table>\n",
       "</div>"
      ],
      "text/plain": [
       "                                               App Category  Rating   Reviews  \\\n",
       "0                                     Weather Live  WEATHER     4.5   76593.0   \n",
       "1                  Weather by WeatherBug: Forecast  WEATHER     4.5  981995.0   \n",
       "2                                     SMHI Weather  WEATHER     3.5   11297.0   \n",
       "3  Storm Radar: Tornado Tracker & Hurricane Alerts  WEATHER     4.6   89868.0   \n",
       "4                              Weather From DMI/YR  WEATHER     4.3    2143.0   \n",
       "\n",
       "                 Size     Installs  Type  Price Content Rating   Genres  \\\n",
       "0  Varies with device     500,000+  Paid  $5.99       Everyone  WEATHER   \n",
       "1  Varies with device  10,000,000+  Free      0       Everyone  WEATHER   \n",
       "2  Varies with device   1,000,000+  Free      0       Everyone  WEATHER   \n",
       "3  Varies with device   1,000,000+  Free      0       Everyone  WEATHER   \n",
       "4  Varies with device     100,000+  Free      0       Everyone  WEATHER   \n",
       "\n",
       "        Last Updated         Current Ver         Android Ver  test  \n",
       "0  November 21, 2017  Varies with device  Varies with device  5.99  \n",
       "1       June 7, 2018  Varies with device  Varies with device  None  \n",
       "2      June 26, 2018  Varies with device  Varies with device  None  \n",
       "3      June 12, 2018  Varies with device  Varies with device  None  \n",
       "4      July 31, 2018  Varies with device  Varies with device  None  "
      ]
     },
     "execution_count": 988,
     "metadata": {},
     "output_type": "execute_result"
    }
   ],
   "source": [
    "df1.head()"
   ]
  },
  {
   "cell_type": "code",
   "execution_count": 989,
   "id": "456de1ec",
   "metadata": {},
   "outputs": [],
   "source": [
    "## Filling None values with \"0\"\n",
    "df1['test'] = df1['test'].fillna(0)"
   ]
  },
  {
   "cell_type": "code",
   "execution_count": 990,
   "id": "36d00206",
   "metadata": {},
   "outputs": [],
   "source": [
    "## Dropping the original price column\n",
    "df1.drop(columns=['Price'], inplace=True)"
   ]
  },
  {
   "cell_type": "code",
   "execution_count": 991,
   "id": "ef9fee8c",
   "metadata": {},
   "outputs": [],
   "source": [
    "## Renaming the test column\n",
    "df1.rename(columns = {'test':'Price'}, inplace = True)"
   ]
  },
  {
   "cell_type": "code",
   "execution_count": 992,
   "id": "37fbec60",
   "metadata": {},
   "outputs": [
    {
     "name": "stdout",
     "output_type": "stream",
     "text": [
      "<class 'pandas.core.frame.DataFrame'>\n",
      "RangeIndex: 8895 entries, 0 to 8894\n",
      "Data columns (total 13 columns):\n",
      " #   Column          Non-Null Count  Dtype  \n",
      "---  ------          --------------  -----  \n",
      " 0   App             8895 non-null   object \n",
      " 1   Category        8895 non-null   object \n",
      " 2   Rating          8895 non-null   float64\n",
      " 3   Reviews         8894 non-null   float64\n",
      " 4   Size            8895 non-null   object \n",
      " 5   Installs        8895 non-null   object \n",
      " 6   Type            8895 non-null   object \n",
      " 7   Content Rating  8895 non-null   object \n",
      " 8   Genres          8894 non-null   object \n",
      " 9   Last Updated    8440 non-null   object \n",
      " 10  Current Ver     8428 non-null   object \n",
      " 11  Android Ver     8396 non-null   object \n",
      " 12  Price           8895 non-null   object \n",
      "dtypes: float64(2), object(11)\n",
      "memory usage: 903.5+ KB\n"
     ]
    }
   ],
   "source": [
    "df1.info()"
   ]
  },
  {
   "cell_type": "code",
   "execution_count": 993,
   "id": "cfb47f09",
   "metadata": {},
   "outputs": [],
   "source": [
    "## The columns are correct but Price is an object. I transform it to a float. \n",
    "df1['Price'] = df1['Price'].astype(float)"
   ]
  },
  {
   "cell_type": "code",
   "execution_count": 994,
   "id": "af43eef3",
   "metadata": {},
   "outputs": [
    {
     "name": "stdout",
     "output_type": "stream",
     "text": [
      "<class 'pandas.core.frame.DataFrame'>\n",
      "RangeIndex: 8895 entries, 0 to 8894\n",
      "Data columns (total 13 columns):\n",
      " #   Column          Non-Null Count  Dtype  \n",
      "---  ------          --------------  -----  \n",
      " 0   App             8895 non-null   object \n",
      " 1   Category        8895 non-null   object \n",
      " 2   Rating          8895 non-null   float64\n",
      " 3   Reviews         8894 non-null   float64\n",
      " 4   Size            8895 non-null   object \n",
      " 5   Installs        8895 non-null   object \n",
      " 6   Type            8895 non-null   object \n",
      " 7   Content Rating  8895 non-null   object \n",
      " 8   Genres          8894 non-null   object \n",
      " 9   Last Updated    8440 non-null   object \n",
      " 10  Current Ver     8428 non-null   object \n",
      " 11  Android Ver     8396 non-null   object \n",
      " 12  Price           8895 non-null   float64\n",
      "dtypes: float64(3), object(10)\n",
      "memory usage: 903.5+ KB\n"
     ]
    }
   ],
   "source": [
    "df1.info()"
   ]
  },
  {
   "cell_type": "code",
   "execution_count": 995,
   "id": "76b6ccfa",
   "metadata": {},
   "outputs": [
    {
     "data": {
      "text/html": [
       "<div>\n",
       "<style scoped>\n",
       "    .dataframe tbody tr th:only-of-type {\n",
       "        vertical-align: middle;\n",
       "    }\n",
       "\n",
       "    .dataframe tbody tr th {\n",
       "        vertical-align: top;\n",
       "    }\n",
       "\n",
       "    .dataframe thead th {\n",
       "        text-align: right;\n",
       "    }\n",
       "</style>\n",
       "<table border=\"1\" class=\"dataframe\">\n",
       "  <thead>\n",
       "    <tr style=\"text-align: right;\">\n",
       "      <th></th>\n",
       "      <th>App</th>\n",
       "      <th>Category</th>\n",
       "      <th>Rating</th>\n",
       "      <th>Reviews</th>\n",
       "      <th>Size</th>\n",
       "      <th>Installs</th>\n",
       "      <th>Type</th>\n",
       "      <th>Content Rating</th>\n",
       "      <th>Genres</th>\n",
       "      <th>Last Updated</th>\n",
       "      <th>Current Ver</th>\n",
       "      <th>Android Ver</th>\n",
       "      <th>Price</th>\n",
       "    </tr>\n",
       "  </thead>\n",
       "  <tbody>\n",
       "  </tbody>\n",
       "</table>\n",
       "</div>"
      ],
      "text/plain": [
       "Empty DataFrame\n",
       "Columns: [App, Category, Rating, Reviews, Size, Installs, Type, Content Rating, Genres, Last Updated, Current Ver, Android Ver, Price]\n",
       "Index: []"
      ]
     },
     "execution_count": 995,
     "metadata": {},
     "output_type": "execute_result"
    }
   ],
   "source": [
    "##Check for NaN under a single DataFrame column: \n",
    "df1[df1['Content Rating'].isna()]"
   ]
  },
  {
   "cell_type": "markdown",
   "id": "d9acb56a",
   "metadata": {},
   "source": [
    "Since this column won't be part of the analysis, it's not necessary to impute data, althouugh Genre could be imputed in Genre. There is no need to drop a row, since it has category, rating, type and price complete, which is what we need. "
   ]
  },
  {
   "cell_type": "markdown",
   "id": "1b1ea635",
   "metadata": {},
   "source": [
    "## Data Exploration "
   ]
  },
  {
   "cell_type": "markdown",
   "id": "ffa8239f",
   "metadata": {},
   "source": [
    "### Descriptive statistics and feature engineering"
   ]
  },
  {
   "cell_type": "markdown",
   "id": "d463fc9f",
   "metadata": {},
   "source": [
    "The summary statistics for the numerical variables in df1."
   ]
  },
  {
   "cell_type": "code",
   "execution_count": 996,
   "id": "169de858",
   "metadata": {},
   "outputs": [
    {
     "data": {
      "text/html": [
       "<div>\n",
       "<style scoped>\n",
       "    .dataframe tbody tr th:only-of-type {\n",
       "        vertical-align: middle;\n",
       "    }\n",
       "\n",
       "    .dataframe tbody tr th {\n",
       "        vertical-align: top;\n",
       "    }\n",
       "\n",
       "    .dataframe thead th {\n",
       "        text-align: right;\n",
       "    }\n",
       "</style>\n",
       "<table border=\"1\" class=\"dataframe\">\n",
       "  <thead>\n",
       "    <tr style=\"text-align: right;\">\n",
       "      <th></th>\n",
       "      <th>Rating</th>\n",
       "      <th>Reviews</th>\n",
       "      <th>Price</th>\n",
       "    </tr>\n",
       "  </thead>\n",
       "  <tbody>\n",
       "    <tr>\n",
       "      <th>count</th>\n",
       "      <td>8895.000000</td>\n",
       "      <td>8.894000e+03</td>\n",
       "      <td>8895.000000</td>\n",
       "    </tr>\n",
       "    <tr>\n",
       "      <th>mean</th>\n",
       "      <td>4.187589</td>\n",
       "      <td>4.726703e+05</td>\n",
       "      <td>0.963278</td>\n",
       "    </tr>\n",
       "    <tr>\n",
       "      <th>std</th>\n",
       "      <td>0.522856</td>\n",
       "      <td>2.904734e+06</td>\n",
       "      <td>16.186649</td>\n",
       "    </tr>\n",
       "    <tr>\n",
       "      <th>min</th>\n",
       "      <td>1.000000</td>\n",
       "      <td>1.000000e+00</td>\n",
       "      <td>0.000000</td>\n",
       "    </tr>\n",
       "    <tr>\n",
       "      <th>25%</th>\n",
       "      <td>4.000000</td>\n",
       "      <td>1.640000e+02</td>\n",
       "      <td>0.000000</td>\n",
       "    </tr>\n",
       "    <tr>\n",
       "      <th>50%</th>\n",
       "      <td>4.300000</td>\n",
       "      <td>4.708000e+03</td>\n",
       "      <td>0.000000</td>\n",
       "    </tr>\n",
       "    <tr>\n",
       "      <th>75%</th>\n",
       "      <td>4.500000</td>\n",
       "      <td>7.119725e+04</td>\n",
       "      <td>0.000000</td>\n",
       "    </tr>\n",
       "    <tr>\n",
       "      <th>max</th>\n",
       "      <td>5.000000</td>\n",
       "      <td>7.815831e+07</td>\n",
       "      <td>400.000000</td>\n",
       "    </tr>\n",
       "  </tbody>\n",
       "</table>\n",
       "</div>"
      ],
      "text/plain": [
       "            Rating       Reviews        Price\n",
       "count  8895.000000  8.894000e+03  8895.000000\n",
       "mean      4.187589  4.726703e+05     0.963278\n",
       "std       0.522856  2.904734e+06    16.186649\n",
       "min       1.000000  1.000000e+00     0.000000\n",
       "25%       4.000000  1.640000e+02     0.000000\n",
       "50%       4.300000  4.708000e+03     0.000000\n",
       "75%       4.500000  7.119725e+04     0.000000\n",
       "max       5.000000  7.815831e+07   400.000000"
      ]
     },
     "execution_count": 996,
     "metadata": {},
     "output_type": "execute_result"
    }
   ],
   "source": [
    "df1.describe()"
   ]
  },
  {
   "cell_type": "markdown",
   "id": "7463aac1",
   "metadata": {},
   "source": [
    "The mean `Rating` is 4.19 and the median `Rating` is 4.30. \n",
    "The mean price is `0.96`, although this includes both paid and free apps. Hence, up until the 75th percentile the price is 0. "
   ]
  },
  {
   "cell_type": "code",
   "execution_count": 997,
   "id": "044a179a",
   "metadata": {},
   "outputs": [
    {
     "data": {
      "text/plain": [
       "Free    8281\n",
       "Paid     614\n",
       "Name: Type, dtype: int64"
      ]
     },
     "execution_count": 997,
     "metadata": {},
     "output_type": "execute_result"
    }
   ],
   "source": [
    "df1['Type'].value_counts()"
   ]
  },
  {
   "cell_type": "markdown",
   "id": "f4764681",
   "metadata": {},
   "source": [
    "93.1% of apps in the store are free. "
   ]
  },
  {
   "cell_type": "code",
   "execution_count": 998,
   "id": "78079bfc",
   "metadata": {},
   "outputs": [
    {
     "data": {
      "text/plain": [
       "0.00     8281\n",
       "2.99      110\n",
       "0.99      105\n",
       "4.99       68\n",
       "1.99       59\n",
       "         ... \n",
       "4.84        1\n",
       "2.90        1\n",
       "1.61        1\n",
       "4.60        1\n",
       "14.00       1\n",
       "Name: Price, Length: 73, dtype: int64"
      ]
     },
     "execution_count": 998,
     "metadata": {},
     "output_type": "execute_result"
    }
   ],
   "source": [
    "df1['Price'].value_counts()"
   ]
  },
  {
   "cell_type": "markdown",
   "id": "4e27a46f",
   "metadata": {},
   "source": [
    "#### Grouping `Installs` into fewer categories"
   ]
  },
  {
   "cell_type": "code",
   "execution_count": 999,
   "id": "92860e92",
   "metadata": {},
   "outputs": [
    {
     "data": {
      "text/plain": [
       "1,000,000+        1486\n",
       "10,000,000+       1132\n",
       "100,000+          1111\n",
       "10,000+            989\n",
       "1,000+             699\n",
       "5,000,000+         683\n",
       "500,000+           516\n",
       "50,000+            462\n",
       "5,000+             426\n",
       "100,000,000+       369\n",
       "100+               304\n",
       "50,000,000+        272\n",
       "500+               199\n",
       "10+                 69\n",
       "500,000,000+        61\n",
       "50+                 56\n",
       "1,000,000,000+      49\n",
       "5+                   9\n",
       "1+                   3\n",
       "Name: Installs, dtype: int64"
      ]
     },
     "execution_count": 999,
     "metadata": {},
     "output_type": "execute_result"
    }
   ],
   "source": [
    "df1['Installs'].value_counts()"
   ]
  },
  {
   "cell_type": "markdown",
   "id": "7e011d57",
   "metadata": {},
   "source": [
    "This category is not as usefull in 14 subgroups. To use it in the analysis, perhaphs it can be summed up in four groups. \n",
    "- Small:less than 100k\n",
    "- Medium: between 100k and 1 million\n",
    "- Large: between 1 million and 50 million\n",
    "- Unicorn: more than 50 million"
   ]
  },
  {
   "cell_type": "code",
   "execution_count": 1000,
   "id": "842f14b5",
   "metadata": {},
   "outputs": [],
   "source": [
    "df1['Popularity']='temp'"
   ]
  },
  {
   "cell_type": "code",
   "execution_count": 1001,
   "id": "996a161d",
   "metadata": {},
   "outputs": [
    {
     "data": {
      "text/plain": [
       "temp    8895\n",
       "Name: Popularity, dtype: int64"
      ]
     },
     "execution_count": 1001,
     "metadata": {},
     "output_type": "execute_result"
    }
   ],
   "source": [
    "df1['Popularity'].value_counts()"
   ]
  },
  {
   "cell_type": "code",
   "execution_count": 1002,
   "id": "763c649f",
   "metadata": {},
   "outputs": [],
   "source": [
    "## Filling the small observations first tranche\n",
    "df1.loc[(df1['Installs']=='1+') | (df1['Installs']=='5+') | (df1['Installs']=='10+')| (df1['Installs']=='50+')| (df1['Installs']=='100+'), 'Popularity'] = 'Small'"
   ]
  },
  {
   "cell_type": "code",
   "execution_count": 1003,
   "id": "58413bc2",
   "metadata": {},
   "outputs": [],
   "source": [
    "## Filling the small observations second tranche\n",
    "df1.loc[(df1['Installs']=='500+') | (df1['Installs']=='1,000+') | (df1['Installs']=='5,000+')| (df1['Installs']=='10,000+')| (df1['Installs']=='50,000+'), 'Popularity'] = 'Small'"
   ]
  },
  {
   "cell_type": "code",
   "execution_count": 1004,
   "id": "fc07e285",
   "metadata": {},
   "outputs": [],
   "source": [
    "## Filling the medium observations\n",
    "df1.loc[(df1['Installs']=='100,000+') | (df1['Installs']=='500,000+'), 'Popularity'] = 'Medium'"
   ]
  },
  {
   "cell_type": "code",
   "execution_count": 1005,
   "id": "9c4813ac",
   "metadata": {},
   "outputs": [],
   "source": [
    "## Filling the large observations\n",
    "df1.loc[(df1['Installs']=='1,000,000+') | (df1['Installs']=='5,000,000+') | (df1['Installs']=='10,000,000+') , 'Popularity'] = 'Large'"
   ]
  },
  {
   "cell_type": "code",
   "execution_count": 1006,
   "id": "5f2d42c3",
   "metadata": {},
   "outputs": [],
   "source": [
    "## Filling the unicorn observations\n",
    "df1.loc[(df1['Installs']=='50,000,000+') | (df1['Installs']=='100,000,000+') | (df1['Installs']=='500,000,000+')  | (df1['Installs']=='1,000,000,000+') , 'Popularity'] = 'Unicorn'"
   ]
  },
  {
   "cell_type": "code",
   "execution_count": 1007,
   "id": "10811bc4",
   "metadata": {
    "scrolled": true
   },
   "outputs": [
    {
     "data": {
      "text/plain": [
       "Large      3301\n",
       "Small      3216\n",
       "Medium     1627\n",
       "Unicorn     751\n",
       "Name: Popularity, dtype: int64"
      ]
     },
     "execution_count": 1007,
     "metadata": {},
     "output_type": "execute_result"
    }
   ],
   "source": [
    "df1['Popularity'].value_counts()"
   ]
  },
  {
   "cell_type": "markdown",
   "id": "ae81eef3",
   "metadata": {},
   "source": [
    "#### Grouping `Reviews` into categories"
   ]
  },
  {
   "cell_type": "markdown",
   "id": "644e1ef6",
   "metadata": {},
   "source": [
    "Acording to the distribution statistics for reviews, the 25th percentile is 162, the median value for reviews is 4700 and the maximum value is 7.8 million. This is quite a variance. The main concern with this variable is the stability of the reviews. The more reviews, the more robust the rating. Hence, I propose the following three categories: \n",
    "- Unstable: less than the 25th percentile of the median value\n",
    "- Medium: between the 25th percentile and the median value\n",
    "- Stable: more than the median value"
   ]
  },
  {
   "cell_type": "code",
   "execution_count": 1008,
   "id": "80e0042d",
   "metadata": {},
   "outputs": [],
   "source": [
    "df1['Cat_Reviews']='temp'"
   ]
  },
  {
   "cell_type": "code",
   "execution_count": 1009,
   "id": "50db8f99",
   "metadata": {},
   "outputs": [],
   "source": [
    "## Filling the unstable \n",
    "df1.loc[(df1['Reviews']<162) , 'Cat_Reviews'] = 'Unstable'"
   ]
  },
  {
   "cell_type": "code",
   "execution_count": 1010,
   "id": "58be2e53",
   "metadata": {},
   "outputs": [],
   "source": [
    "## Filling the unstable \n",
    "df1.loc[(df1['Reviews']>4700) , 'Cat_Reviews'] = 'Stable'"
   ]
  },
  {
   "cell_type": "code",
   "execution_count": 1011,
   "id": "e4f3ed47",
   "metadata": {},
   "outputs": [],
   "source": [
    "## Filling the medium observations\n",
    "df1.loc[(df1['Cat_Reviews']=='temp'), 'Cat_Reviews'] = 'Medium'"
   ]
  },
  {
   "cell_type": "code",
   "execution_count": 1012,
   "id": "974fa440",
   "metadata": {
    "scrolled": true
   },
   "outputs": [
    {
     "data": {
      "text/plain": [
       "Stable      4449\n",
       "Medium      2235\n",
       "Unstable    2211\n",
       "Name: Cat_Reviews, dtype: int64"
      ]
     },
     "execution_count": 1012,
     "metadata": {},
     "output_type": "execute_result"
    }
   ],
   "source": [
    "df1['Cat_Reviews'].value_counts()"
   ]
  },
  {
   "cell_type": "code",
   "execution_count": 1013,
   "id": "acc8d93f",
   "metadata": {},
   "outputs": [
    {
     "data": {
      "text/html": [
       "<div>\n",
       "<style scoped>\n",
       "    .dataframe tbody tr th:only-of-type {\n",
       "        vertical-align: middle;\n",
       "    }\n",
       "\n",
       "    .dataframe tbody tr th {\n",
       "        vertical-align: top;\n",
       "    }\n",
       "\n",
       "    .dataframe thead th {\n",
       "        text-align: right;\n",
       "    }\n",
       "</style>\n",
       "<table border=\"1\" class=\"dataframe\">\n",
       "  <thead>\n",
       "    <tr style=\"text-align: right;\">\n",
       "      <th></th>\n",
       "      <th>App</th>\n",
       "      <th>Category</th>\n",
       "      <th>Rating</th>\n",
       "      <th>Reviews</th>\n",
       "      <th>Size</th>\n",
       "      <th>Installs</th>\n",
       "      <th>Type</th>\n",
       "      <th>Content Rating</th>\n",
       "      <th>Genres</th>\n",
       "      <th>Last Updated</th>\n",
       "      <th>Current Ver</th>\n",
       "      <th>Android Ver</th>\n",
       "      <th>Price</th>\n",
       "      <th>Popularity</th>\n",
       "      <th>Cat_Reviews</th>\n",
       "    </tr>\n",
       "  </thead>\n",
       "  <tbody>\n",
       "    <tr>\n",
       "      <th>0</th>\n",
       "      <td>Weather Live</td>\n",
       "      <td>WEATHER</td>\n",
       "      <td>4.5</td>\n",
       "      <td>76593.0</td>\n",
       "      <td>Varies with device</td>\n",
       "      <td>500,000+</td>\n",
       "      <td>Paid</td>\n",
       "      <td>Everyone</td>\n",
       "      <td>WEATHER</td>\n",
       "      <td>November 21, 2017</td>\n",
       "      <td>Varies with device</td>\n",
       "      <td>Varies with device</td>\n",
       "      <td>5.99</td>\n",
       "      <td>Medium</td>\n",
       "      <td>Stable</td>\n",
       "    </tr>\n",
       "    <tr>\n",
       "      <th>1</th>\n",
       "      <td>Weather by WeatherBug: Forecast</td>\n",
       "      <td>WEATHER</td>\n",
       "      <td>4.5</td>\n",
       "      <td>981995.0</td>\n",
       "      <td>Varies with device</td>\n",
       "      <td>10,000,000+</td>\n",
       "      <td>Free</td>\n",
       "      <td>Everyone</td>\n",
       "      <td>WEATHER</td>\n",
       "      <td>June 7, 2018</td>\n",
       "      <td>Varies with device</td>\n",
       "      <td>Varies with device</td>\n",
       "      <td>0.00</td>\n",
       "      <td>Large</td>\n",
       "      <td>Stable</td>\n",
       "    </tr>\n",
       "    <tr>\n",
       "      <th>2</th>\n",
       "      <td>SMHI Weather</td>\n",
       "      <td>WEATHER</td>\n",
       "      <td>3.5</td>\n",
       "      <td>11297.0</td>\n",
       "      <td>Varies with device</td>\n",
       "      <td>1,000,000+</td>\n",
       "      <td>Free</td>\n",
       "      <td>Everyone</td>\n",
       "      <td>WEATHER</td>\n",
       "      <td>June 26, 2018</td>\n",
       "      <td>Varies with device</td>\n",
       "      <td>Varies with device</td>\n",
       "      <td>0.00</td>\n",
       "      <td>Large</td>\n",
       "      <td>Stable</td>\n",
       "    </tr>\n",
       "    <tr>\n",
       "      <th>3</th>\n",
       "      <td>Storm Radar: Tornado Tracker &amp; Hurricane Alerts</td>\n",
       "      <td>WEATHER</td>\n",
       "      <td>4.6</td>\n",
       "      <td>89868.0</td>\n",
       "      <td>Varies with device</td>\n",
       "      <td>1,000,000+</td>\n",
       "      <td>Free</td>\n",
       "      <td>Everyone</td>\n",
       "      <td>WEATHER</td>\n",
       "      <td>June 12, 2018</td>\n",
       "      <td>Varies with device</td>\n",
       "      <td>Varies with device</td>\n",
       "      <td>0.00</td>\n",
       "      <td>Large</td>\n",
       "      <td>Stable</td>\n",
       "    </tr>\n",
       "    <tr>\n",
       "      <th>4</th>\n",
       "      <td>Weather From DMI/YR</td>\n",
       "      <td>WEATHER</td>\n",
       "      <td>4.3</td>\n",
       "      <td>2143.0</td>\n",
       "      <td>Varies with device</td>\n",
       "      <td>100,000+</td>\n",
       "      <td>Free</td>\n",
       "      <td>Everyone</td>\n",
       "      <td>WEATHER</td>\n",
       "      <td>July 31, 2018</td>\n",
       "      <td>Varies with device</td>\n",
       "      <td>Varies with device</td>\n",
       "      <td>0.00</td>\n",
       "      <td>Medium</td>\n",
       "      <td>Medium</td>\n",
       "    </tr>\n",
       "  </tbody>\n",
       "</table>\n",
       "</div>"
      ],
      "text/plain": [
       "                                               App Category  Rating   Reviews  \\\n",
       "0                                     Weather Live  WEATHER     4.5   76593.0   \n",
       "1                  Weather by WeatherBug: Forecast  WEATHER     4.5  981995.0   \n",
       "2                                     SMHI Weather  WEATHER     3.5   11297.0   \n",
       "3  Storm Radar: Tornado Tracker & Hurricane Alerts  WEATHER     4.6   89868.0   \n",
       "4                              Weather From DMI/YR  WEATHER     4.3    2143.0   \n",
       "\n",
       "                 Size     Installs  Type Content Rating   Genres  \\\n",
       "0  Varies with device     500,000+  Paid       Everyone  WEATHER   \n",
       "1  Varies with device  10,000,000+  Free       Everyone  WEATHER   \n",
       "2  Varies with device   1,000,000+  Free       Everyone  WEATHER   \n",
       "3  Varies with device   1,000,000+  Free       Everyone  WEATHER   \n",
       "4  Varies with device     100,000+  Free       Everyone  WEATHER   \n",
       "\n",
       "        Last Updated         Current Ver         Android Ver  Price  \\\n",
       "0  November 21, 2017  Varies with device  Varies with device   5.99   \n",
       "1       June 7, 2018  Varies with device  Varies with device   0.00   \n",
       "2      June 26, 2018  Varies with device  Varies with device   0.00   \n",
       "3      June 12, 2018  Varies with device  Varies with device   0.00   \n",
       "4      July 31, 2018  Varies with device  Varies with device   0.00   \n",
       "\n",
       "  Popularity Cat_Reviews  \n",
       "0     Medium      Stable  \n",
       "1      Large      Stable  \n",
       "2      Large      Stable  \n",
       "3      Large      Stable  \n",
       "4     Medium      Medium  "
      ]
     },
     "execution_count": 1013,
     "metadata": {},
     "output_type": "execute_result"
    }
   ],
   "source": [
    "df1.head()"
   ]
  },
  {
   "cell_type": "markdown",
   "id": "4914f37d",
   "metadata": {},
   "source": [
    "#### Grouping `Content Rating` into fewer categories"
   ]
  },
  {
   "cell_type": "code",
   "execution_count": 1014,
   "id": "284547a4",
   "metadata": {},
   "outputs": [
    {
     "data": {
      "text/plain": [
       "Everyone           7096\n",
       "Teen               1023\n",
       "Mature 17+          412\n",
       "Everyone 10+        360\n",
       "Adults only 18+       3\n",
       "Unrated               1\n",
       "Name: Content Rating, dtype: int64"
      ]
     },
     "execution_count": 1014,
     "metadata": {},
     "output_type": "execute_result"
    }
   ],
   "source": [
    "## Analyzing the Content variable\n",
    "df1['Content Rating'].value_counts()"
   ]
  },
  {
   "cell_type": "code",
   "execution_count": 1015,
   "id": "9a1631c2",
   "metadata": {},
   "outputs": [],
   "source": [
    "df1['Cat_Content']='temp'"
   ]
  },
  {
   "cell_type": "code",
   "execution_count": 1016,
   "id": "a6ee6d21",
   "metadata": {},
   "outputs": [],
   "source": [
    "## Filling the small observations first tranche\n",
    "df1.loc[(df1['Content Rating']=='Everyone')| (df1['Content Rating']=='Unrated'), 'Cat_Content'] = 'Everyone'"
   ]
  },
  {
   "cell_type": "code",
   "execution_count": 1017,
   "id": "4b3700cf",
   "metadata": {},
   "outputs": [],
   "source": [
    "## Filling the small observations first tranche\n",
    "df1.loc[(df1['Content Rating']=='Teen')| (df1['Content Rating']=='Everyone 10+'), 'Cat_Content'] = 'Teen'"
   ]
  },
  {
   "cell_type": "code",
   "execution_count": 1018,
   "id": "01914184",
   "metadata": {},
   "outputs": [],
   "source": [
    "## Filling the small observations first tranche\n",
    "df1.loc[(df1['Content Rating']=='Mature 17+')| (df1['Content Rating']=='Adults only 18+'), 'Cat_Content'] = 'Adult'"
   ]
  },
  {
   "cell_type": "code",
   "execution_count": 1019,
   "id": "c931f846",
   "metadata": {},
   "outputs": [
    {
     "data": {
      "text/plain": [
       "Everyone    7097\n",
       "Teen        1383\n",
       "Adult        415\n",
       "Name: Cat_Content, dtype: int64"
      ]
     },
     "execution_count": 1019,
     "metadata": {},
     "output_type": "execute_result"
    }
   ],
   "source": [
    "df1['Cat_Content'].value_counts()"
   ]
  },
  {
   "cell_type": "markdown",
   "id": "5925cbf2",
   "metadata": {},
   "source": [
    "### Creating new dataframes"
   ]
  },
  {
   "cell_type": "markdown",
   "id": "a813b1bf",
   "metadata": {},
   "source": [
    "I want to explore the relationships between `Rating`, `Category`, `Reviews`, `Type` and `Price`. In section 2, some of the plots for rating and category gave us an introduction to the dataset. Now, I will create a new dataframe that will facilitate plotting  grouped by category. "
   ]
  },
  {
   "cell_type": "markdown",
   "id": "0dff87b3",
   "metadata": {},
   "source": [
    "#### Number of observations in the dataset per category. "
   ]
  },
  {
   "cell_type": "code",
   "execution_count": 1020,
   "id": "4b1d8b7a",
   "metadata": {},
   "outputs": [],
   "source": [
    "num_ob=df1['Category'].value_counts()"
   ]
  },
  {
   "cell_type": "code",
   "execution_count": 1021,
   "id": "0fd3f7ba",
   "metadata": {},
   "outputs": [
    {
     "data": {
      "text/plain": [
       "FAMILY                 1718\n",
       "GAME                   1074\n",
       "TOOLS                   734\n",
       "PRODUCTIVITY            334\n",
       "FINANCE                 317\n",
       "PERSONALIZATION         310\n",
       "COMMUNICATION           307\n",
       "LIFESTYLE               305\n",
       "PHOTOGRAPHY             305\n",
       "MEDICAL                 302\n",
       "SPORTS                  286\n",
       "BUSINESS                270\n",
       "HEALTH_AND_FITNESS      262\n",
       "SOCIAL                  244\n",
       "NEWS_AND_MAGAZINES      214\n",
       "TRAVEL_AND_LOCAL        205\n",
       "SHOPPING                202\n",
       "BOOKS_AND_REFERENCE     177\n",
       "DATING                  161\n",
       "VIDEO_PLAYERS           160\n",
       "EDUCATION               129\n",
       "MAPS_AND_NAVIGATION     124\n",
       "ENTERTAINMENT           111\n",
       "FOOD_AND_DRINK          106\n",
       "WEATHER                  75\n",
       "AUTO_AND_VEHICLES        73\n",
       "HOUSE_AND_HOME           68\n",
       "LIBRARIES_AND_DEMO       65\n",
       "ART_AND_DESIGN           62\n",
       "COMICS                   58\n",
       "PARENTING                50\n",
       "EVENTS                   45\n",
       "BEAUTY                   42\n",
       "Name: Category, dtype: int64"
      ]
     },
     "execution_count": 1021,
     "metadata": {},
     "output_type": "execute_result"
    }
   ],
   "source": [
    "num_ob"
   ]
  },
  {
   "cell_type": "code",
   "execution_count": 1022,
   "id": "782690c0",
   "metadata": {},
   "outputs": [],
   "source": [
    "## I want to put these into a dataframe\n",
    "df3=pd.DataFrame(data=num_ob).reset_index()"
   ]
  },
  {
   "cell_type": "code",
   "execution_count": 1023,
   "id": "cd73207e",
   "metadata": {},
   "outputs": [
    {
     "data": {
      "text/html": [
       "<div>\n",
       "<style scoped>\n",
       "    .dataframe tbody tr th:only-of-type {\n",
       "        vertical-align: middle;\n",
       "    }\n",
       "\n",
       "    .dataframe tbody tr th {\n",
       "        vertical-align: top;\n",
       "    }\n",
       "\n",
       "    .dataframe thead th {\n",
       "        text-align: right;\n",
       "    }\n",
       "</style>\n",
       "<table border=\"1\" class=\"dataframe\">\n",
       "  <thead>\n",
       "    <tr style=\"text-align: right;\">\n",
       "      <th></th>\n",
       "      <th>index</th>\n",
       "      <th>Category</th>\n",
       "    </tr>\n",
       "  </thead>\n",
       "  <tbody>\n",
       "    <tr>\n",
       "      <th>0</th>\n",
       "      <td>FAMILY</td>\n",
       "      <td>1718</td>\n",
       "    </tr>\n",
       "    <tr>\n",
       "      <th>1</th>\n",
       "      <td>GAME</td>\n",
       "      <td>1074</td>\n",
       "    </tr>\n",
       "    <tr>\n",
       "      <th>2</th>\n",
       "      <td>TOOLS</td>\n",
       "      <td>734</td>\n",
       "    </tr>\n",
       "    <tr>\n",
       "      <th>3</th>\n",
       "      <td>PRODUCTIVITY</td>\n",
       "      <td>334</td>\n",
       "    </tr>\n",
       "    <tr>\n",
       "      <th>4</th>\n",
       "      <td>FINANCE</td>\n",
       "      <td>317</td>\n",
       "    </tr>\n",
       "  </tbody>\n",
       "</table>\n",
       "</div>"
      ],
      "text/plain": [
       "          index  Category\n",
       "0        FAMILY      1718\n",
       "1          GAME      1074\n",
       "2         TOOLS       734\n",
       "3  PRODUCTIVITY       334\n",
       "4       FINANCE       317"
      ]
     },
     "execution_count": 1023,
     "metadata": {},
     "output_type": "execute_result"
    }
   ],
   "source": [
    "df3.head()"
   ]
  },
  {
   "cell_type": "code",
   "execution_count": 1024,
   "id": "038881cb",
   "metadata": {},
   "outputs": [],
   "source": [
    "## I want to change the names in the columns \n",
    "## I'll do it separately to avoid overriding changes in Category\n",
    "df3.rename(columns = {'Category':'Count'}, inplace = True)\n",
    "df3.rename(columns = {'index':'Category'}, inplace = True)"
   ]
  },
  {
   "cell_type": "code",
   "execution_count": 1025,
   "id": "d142a984",
   "metadata": {},
   "outputs": [
    {
     "data": {
      "text/html": [
       "<div>\n",
       "<style scoped>\n",
       "    .dataframe tbody tr th:only-of-type {\n",
       "        vertical-align: middle;\n",
       "    }\n",
       "\n",
       "    .dataframe tbody tr th {\n",
       "        vertical-align: top;\n",
       "    }\n",
       "\n",
       "    .dataframe thead th {\n",
       "        text-align: right;\n",
       "    }\n",
       "</style>\n",
       "<table border=\"1\" class=\"dataframe\">\n",
       "  <thead>\n",
       "    <tr style=\"text-align: right;\">\n",
       "      <th></th>\n",
       "      <th>Category</th>\n",
       "      <th>Count</th>\n",
       "    </tr>\n",
       "  </thead>\n",
       "  <tbody>\n",
       "    <tr>\n",
       "      <th>0</th>\n",
       "      <td>FAMILY</td>\n",
       "      <td>1718</td>\n",
       "    </tr>\n",
       "    <tr>\n",
       "      <th>1</th>\n",
       "      <td>GAME</td>\n",
       "      <td>1074</td>\n",
       "    </tr>\n",
       "    <tr>\n",
       "      <th>2</th>\n",
       "      <td>TOOLS</td>\n",
       "      <td>734</td>\n",
       "    </tr>\n",
       "    <tr>\n",
       "      <th>3</th>\n",
       "      <td>PRODUCTIVITY</td>\n",
       "      <td>334</td>\n",
       "    </tr>\n",
       "    <tr>\n",
       "      <th>4</th>\n",
       "      <td>FINANCE</td>\n",
       "      <td>317</td>\n",
       "    </tr>\n",
       "  </tbody>\n",
       "</table>\n",
       "</div>"
      ],
      "text/plain": [
       "       Category  Count\n",
       "0        FAMILY   1718\n",
       "1          GAME   1074\n",
       "2         TOOLS    734\n",
       "3  PRODUCTIVITY    334\n",
       "4       FINANCE    317"
      ]
     },
     "execution_count": 1025,
     "metadata": {},
     "output_type": "execute_result"
    }
   ],
   "source": [
    "df3.head()"
   ]
  },
  {
   "cell_type": "code",
   "execution_count": 1026,
   "id": "0e3e153e",
   "metadata": {},
   "outputs": [],
   "source": [
    "# Sorting alfabetically by Category to merge with other dataframes\n",
    "df3.sort_values('Category', axis=0, ascending=True, inplace=True)"
   ]
  },
  {
   "cell_type": "code",
   "execution_count": 1027,
   "id": "7d4099a1",
   "metadata": {},
   "outputs": [
    {
     "data": {
      "text/html": [
       "<div>\n",
       "<style scoped>\n",
       "    .dataframe tbody tr th:only-of-type {\n",
       "        vertical-align: middle;\n",
       "    }\n",
       "\n",
       "    .dataframe tbody tr th {\n",
       "        vertical-align: top;\n",
       "    }\n",
       "\n",
       "    .dataframe thead th {\n",
       "        text-align: right;\n",
       "    }\n",
       "</style>\n",
       "<table border=\"1\" class=\"dataframe\">\n",
       "  <thead>\n",
       "    <tr style=\"text-align: right;\">\n",
       "      <th></th>\n",
       "      <th>Category</th>\n",
       "      <th>Count</th>\n",
       "    </tr>\n",
       "  </thead>\n",
       "  <tbody>\n",
       "    <tr>\n",
       "      <th>28</th>\n",
       "      <td>ART_AND_DESIGN</td>\n",
       "      <td>62</td>\n",
       "    </tr>\n",
       "    <tr>\n",
       "      <th>25</th>\n",
       "      <td>AUTO_AND_VEHICLES</td>\n",
       "      <td>73</td>\n",
       "    </tr>\n",
       "    <tr>\n",
       "      <th>32</th>\n",
       "      <td>BEAUTY</td>\n",
       "      <td>42</td>\n",
       "    </tr>\n",
       "    <tr>\n",
       "      <th>17</th>\n",
       "      <td>BOOKS_AND_REFERENCE</td>\n",
       "      <td>177</td>\n",
       "    </tr>\n",
       "    <tr>\n",
       "      <th>11</th>\n",
       "      <td>BUSINESS</td>\n",
       "      <td>270</td>\n",
       "    </tr>\n",
       "  </tbody>\n",
       "</table>\n",
       "</div>"
      ],
      "text/plain": [
       "               Category  Count\n",
       "28       ART_AND_DESIGN     62\n",
       "25    AUTO_AND_VEHICLES     73\n",
       "32               BEAUTY     42\n",
       "17  BOOKS_AND_REFERENCE    177\n",
       "11             BUSINESS    270"
      ]
     },
     "execution_count": 1027,
     "metadata": {},
     "output_type": "execute_result"
    }
   ],
   "source": [
    "df3.head()"
   ]
  },
  {
   "cell_type": "code",
   "execution_count": 1028,
   "id": "669b0995",
   "metadata": {},
   "outputs": [],
   "source": [
    "## Reseting the index to this alphabetical order \n",
    "df3 = df3.reset_index(drop=True)"
   ]
  },
  {
   "cell_type": "code",
   "execution_count": 1029,
   "id": "c46c3814",
   "metadata": {},
   "outputs": [
    {
     "data": {
      "text/html": [
       "<div>\n",
       "<style scoped>\n",
       "    .dataframe tbody tr th:only-of-type {\n",
       "        vertical-align: middle;\n",
       "    }\n",
       "\n",
       "    .dataframe tbody tr th {\n",
       "        vertical-align: top;\n",
       "    }\n",
       "\n",
       "    .dataframe thead th {\n",
       "        text-align: right;\n",
       "    }\n",
       "</style>\n",
       "<table border=\"1\" class=\"dataframe\">\n",
       "  <thead>\n",
       "    <tr style=\"text-align: right;\">\n",
       "      <th></th>\n",
       "      <th>Category</th>\n",
       "      <th>Count</th>\n",
       "    </tr>\n",
       "  </thead>\n",
       "  <tbody>\n",
       "    <tr>\n",
       "      <th>0</th>\n",
       "      <td>ART_AND_DESIGN</td>\n",
       "      <td>62</td>\n",
       "    </tr>\n",
       "    <tr>\n",
       "      <th>1</th>\n",
       "      <td>AUTO_AND_VEHICLES</td>\n",
       "      <td>73</td>\n",
       "    </tr>\n",
       "    <tr>\n",
       "      <th>2</th>\n",
       "      <td>BEAUTY</td>\n",
       "      <td>42</td>\n",
       "    </tr>\n",
       "    <tr>\n",
       "      <th>3</th>\n",
       "      <td>BOOKS_AND_REFERENCE</td>\n",
       "      <td>177</td>\n",
       "    </tr>\n",
       "    <tr>\n",
       "      <th>4</th>\n",
       "      <td>BUSINESS</td>\n",
       "      <td>270</td>\n",
       "    </tr>\n",
       "  </tbody>\n",
       "</table>\n",
       "</div>"
      ],
      "text/plain": [
       "              Category  Count\n",
       "0       ART_AND_DESIGN     62\n",
       "1    AUTO_AND_VEHICLES     73\n",
       "2               BEAUTY     42\n",
       "3  BOOKS_AND_REFERENCE    177\n",
       "4             BUSINESS    270"
      ]
     },
     "execution_count": 1029,
     "metadata": {},
     "output_type": "execute_result"
    }
   ],
   "source": [
    "df3.head()"
   ]
  },
  {
   "cell_type": "markdown",
   "id": "91af0a65",
   "metadata": {},
   "source": [
    "#### Average rating per category"
   ]
  },
  {
   "cell_type": "code",
   "execution_count": 1030,
   "id": "3299ab51",
   "metadata": {},
   "outputs": [
    {
     "data": {
      "text/plain": [
       "Category\n",
       "ART_AND_DESIGN         4.358065\n",
       "AUTO_AND_VEHICLES      4.190411\n",
       "BEAUTY                 4.278571\n",
       "BOOKS_AND_REFERENCE    4.347458\n",
       "BUSINESS               4.102593\n",
       "COMICS                 4.155172\n",
       "COMMUNICATION          4.151466\n",
       "DATING                 3.972671\n",
       "EDUCATION              4.375969\n",
       "ENTERTAINMENT          4.136036\n",
       "EVENTS                 4.435556\n",
       "FAMILY                 4.191153\n",
       "FINANCE                4.127445\n",
       "FOOD_AND_DRINK         4.164151\n",
       "GAME                   4.281285\n",
       "HEALTH_AND_FITNESS     4.261450\n",
       "HOUSE_AND_HOME         4.164706\n",
       "LIBRARIES_AND_DEMO     4.178462\n",
       "LIFESTYLE              4.096066\n",
       "MAPS_AND_NAVIGATION    4.051613\n",
       "MEDICAL                4.182450\n",
       "NEWS_AND_MAGAZINES     4.128505\n",
       "PARENTING              4.300000\n",
       "PERSONALIZATION        4.333871\n",
       "PHOTOGRAPHY            4.175410\n",
       "PRODUCTIVITY           4.201796\n",
       "SHOPPING               4.251485\n",
       "SOCIAL                 4.254918\n",
       "SPORTS                 4.225175\n",
       "TOOLS                  4.047411\n",
       "TRAVEL_AND_LOCAL       4.094146\n",
       "VIDEO_PLAYERS          4.063750\n",
       "WEATHER                4.244000\n",
       "Name: Rating, dtype: float64"
      ]
     },
     "execution_count": 1030,
     "metadata": {},
     "output_type": "execute_result"
    }
   ],
   "source": [
    "# This was calculated before for df1. I'll put it in a df for easier plotting. \n",
    "avg_without"
   ]
  },
  {
   "cell_type": "code",
   "execution_count": 1031,
   "id": "2234cd46",
   "metadata": {},
   "outputs": [],
   "source": [
    "df4=pd.DataFrame(data=avg_without).reset_index()"
   ]
  },
  {
   "cell_type": "code",
   "execution_count": 1032,
   "id": "60d6d6e3",
   "metadata": {},
   "outputs": [
    {
     "name": "stdout",
     "output_type": "stream",
     "text": [
      "<class 'pandas.core.frame.DataFrame'>\n",
      "RangeIndex: 33 entries, 0 to 32\n",
      "Data columns (total 2 columns):\n",
      " #   Column    Non-Null Count  Dtype  \n",
      "---  ------    --------------  -----  \n",
      " 0   Category  33 non-null     object \n",
      " 1   Rating    33 non-null     float64\n",
      "dtypes: float64(1), object(1)\n",
      "memory usage: 656.0+ bytes\n"
     ]
    }
   ],
   "source": [
    "df4.info()"
   ]
  },
  {
   "cell_type": "code",
   "execution_count": 1033,
   "id": "451c44da",
   "metadata": {},
   "outputs": [
    {
     "data": {
      "text/html": [
       "<div>\n",
       "<style scoped>\n",
       "    .dataframe tbody tr th:only-of-type {\n",
       "        vertical-align: middle;\n",
       "    }\n",
       "\n",
       "    .dataframe tbody tr th {\n",
       "        vertical-align: top;\n",
       "    }\n",
       "\n",
       "    .dataframe thead th {\n",
       "        text-align: right;\n",
       "    }\n",
       "</style>\n",
       "<table border=\"1\" class=\"dataframe\">\n",
       "  <thead>\n",
       "    <tr style=\"text-align: right;\">\n",
       "      <th></th>\n",
       "      <th>Category</th>\n",
       "      <th>Rating</th>\n",
       "    </tr>\n",
       "  </thead>\n",
       "  <tbody>\n",
       "    <tr>\n",
       "      <th>0</th>\n",
       "      <td>ART_AND_DESIGN</td>\n",
       "      <td>4.358065</td>\n",
       "    </tr>\n",
       "    <tr>\n",
       "      <th>1</th>\n",
       "      <td>AUTO_AND_VEHICLES</td>\n",
       "      <td>4.190411</td>\n",
       "    </tr>\n",
       "    <tr>\n",
       "      <th>2</th>\n",
       "      <td>BEAUTY</td>\n",
       "      <td>4.278571</td>\n",
       "    </tr>\n",
       "    <tr>\n",
       "      <th>3</th>\n",
       "      <td>BOOKS_AND_REFERENCE</td>\n",
       "      <td>4.347458</td>\n",
       "    </tr>\n",
       "    <tr>\n",
       "      <th>4</th>\n",
       "      <td>BUSINESS</td>\n",
       "      <td>4.102593</td>\n",
       "    </tr>\n",
       "  </tbody>\n",
       "</table>\n",
       "</div>"
      ],
      "text/plain": [
       "              Category    Rating\n",
       "0       ART_AND_DESIGN  4.358065\n",
       "1    AUTO_AND_VEHICLES  4.190411\n",
       "2               BEAUTY  4.278571\n",
       "3  BOOKS_AND_REFERENCE  4.347458\n",
       "4             BUSINESS  4.102593"
      ]
     },
     "execution_count": 1033,
     "metadata": {},
     "output_type": "execute_result"
    }
   ],
   "source": [
    "df4.head()"
   ]
  },
  {
   "cell_type": "code",
   "execution_count": 1034,
   "id": "74231f2a",
   "metadata": {},
   "outputs": [],
   "source": [
    "### Merging both dataframes into one for easier plotting\n",
    "df5 = pd.merge(df3, df4, how=\"left\", on=[\"Category\"])"
   ]
  },
  {
   "cell_type": "code",
   "execution_count": 1035,
   "id": "addb4c60",
   "metadata": {},
   "outputs": [
    {
     "data": {
      "text/html": [
       "<div>\n",
       "<style scoped>\n",
       "    .dataframe tbody tr th:only-of-type {\n",
       "        vertical-align: middle;\n",
       "    }\n",
       "\n",
       "    .dataframe tbody tr th {\n",
       "        vertical-align: top;\n",
       "    }\n",
       "\n",
       "    .dataframe thead th {\n",
       "        text-align: right;\n",
       "    }\n",
       "</style>\n",
       "<table border=\"1\" class=\"dataframe\">\n",
       "  <thead>\n",
       "    <tr style=\"text-align: right;\">\n",
       "      <th></th>\n",
       "      <th>Category</th>\n",
       "      <th>Count</th>\n",
       "      <th>Rating</th>\n",
       "    </tr>\n",
       "  </thead>\n",
       "  <tbody>\n",
       "    <tr>\n",
       "      <th>0</th>\n",
       "      <td>ART_AND_DESIGN</td>\n",
       "      <td>62</td>\n",
       "      <td>4.358065</td>\n",
       "    </tr>\n",
       "    <tr>\n",
       "      <th>1</th>\n",
       "      <td>AUTO_AND_VEHICLES</td>\n",
       "      <td>73</td>\n",
       "      <td>4.190411</td>\n",
       "    </tr>\n",
       "    <tr>\n",
       "      <th>2</th>\n",
       "      <td>BEAUTY</td>\n",
       "      <td>42</td>\n",
       "      <td>4.278571</td>\n",
       "    </tr>\n",
       "    <tr>\n",
       "      <th>3</th>\n",
       "      <td>BOOKS_AND_REFERENCE</td>\n",
       "      <td>177</td>\n",
       "      <td>4.347458</td>\n",
       "    </tr>\n",
       "    <tr>\n",
       "      <th>4</th>\n",
       "      <td>BUSINESS</td>\n",
       "      <td>270</td>\n",
       "      <td>4.102593</td>\n",
       "    </tr>\n",
       "  </tbody>\n",
       "</table>\n",
       "</div>"
      ],
      "text/plain": [
       "              Category  Count    Rating\n",
       "0       ART_AND_DESIGN     62  4.358065\n",
       "1    AUTO_AND_VEHICLES     73  4.190411\n",
       "2               BEAUTY     42  4.278571\n",
       "3  BOOKS_AND_REFERENCE    177  4.347458\n",
       "4             BUSINESS    270  4.102593"
      ]
     },
     "execution_count": 1035,
     "metadata": {},
     "output_type": "execute_result"
    }
   ],
   "source": [
    "df5.head()"
   ]
  },
  {
   "cell_type": "code",
   "execution_count": 1036,
   "id": "732966bc",
   "metadata": {},
   "outputs": [
    {
     "data": {
      "text/html": [
       "<div>\n",
       "<style scoped>\n",
       "    .dataframe tbody tr th:only-of-type {\n",
       "        vertical-align: middle;\n",
       "    }\n",
       "\n",
       "    .dataframe tbody tr th {\n",
       "        vertical-align: top;\n",
       "    }\n",
       "\n",
       "    .dataframe thead th {\n",
       "        text-align: right;\n",
       "    }\n",
       "</style>\n",
       "<table border=\"1\" class=\"dataframe\">\n",
       "  <thead>\n",
       "    <tr style=\"text-align: right;\">\n",
       "      <th></th>\n",
       "      <th>Count</th>\n",
       "      <th>Rating</th>\n",
       "    </tr>\n",
       "  </thead>\n",
       "  <tbody>\n",
       "    <tr>\n",
       "      <th>count</th>\n",
       "      <td>33.000000</td>\n",
       "      <td>33.000000</td>\n",
       "    </tr>\n",
       "    <tr>\n",
       "      <th>mean</th>\n",
       "      <td>269.545455</td>\n",
       "      <td>4.197673</td>\n",
       "    </tr>\n",
       "    <tr>\n",
       "      <th>std</th>\n",
       "      <td>331.144898</td>\n",
       "      <td>0.105426</td>\n",
       "    </tr>\n",
       "    <tr>\n",
       "      <th>min</th>\n",
       "      <td>42.000000</td>\n",
       "      <td>3.972671</td>\n",
       "    </tr>\n",
       "    <tr>\n",
       "      <th>25%</th>\n",
       "      <td>75.000000</td>\n",
       "      <td>4.128505</td>\n",
       "    </tr>\n",
       "    <tr>\n",
       "      <th>50%</th>\n",
       "      <td>202.000000</td>\n",
       "      <td>4.182450</td>\n",
       "    </tr>\n",
       "    <tr>\n",
       "      <th>75%</th>\n",
       "      <td>305.000000</td>\n",
       "      <td>4.261450</td>\n",
       "    </tr>\n",
       "    <tr>\n",
       "      <th>max</th>\n",
       "      <td>1718.000000</td>\n",
       "      <td>4.435556</td>\n",
       "    </tr>\n",
       "  </tbody>\n",
       "</table>\n",
       "</div>"
      ],
      "text/plain": [
       "             Count     Rating\n",
       "count    33.000000  33.000000\n",
       "mean    269.545455   4.197673\n",
       "std     331.144898   0.105426\n",
       "min      42.000000   3.972671\n",
       "25%      75.000000   4.128505\n",
       "50%     202.000000   4.182450\n",
       "75%     305.000000   4.261450\n",
       "max    1718.000000   4.435556"
      ]
     },
     "execution_count": 1036,
     "metadata": {},
     "output_type": "execute_result"
    }
   ],
   "source": [
    "df5.describe()"
   ]
  },
  {
   "cell_type": "markdown",
   "id": "13de0987",
   "metadata": {},
   "source": [
    "The range for `Count` is 42 to 1718. The mean is 269.55. The range for `Rating` is 3.97 to 4.44 and the mean is 4.20."
   ]
  },
  {
   "cell_type": "markdown",
   "id": "5697bcbf",
   "metadata": {},
   "source": [
    "## Data Visualization"
   ]
  },
  {
   "cell_type": "markdown",
   "id": "4c6cac60",
   "metadata": {},
   "source": [
    "In this section I will answer the proposed questions at the beginning of the analysis. I use the dataframes and new features created in section 3. "
   ]
  },
  {
   "cell_type": "markdown",
   "id": "c9afc514",
   "metadata": {},
   "source": [
    "### What categories have better ratings?"
   ]
  },
  {
   "cell_type": "markdown",
   "id": "600bd3b1",
   "metadata": {},
   "source": [
    "#### Entire dataset"
   ]
  },
  {
   "cell_type": "markdown",
   "id": "12ba53c6",
   "metadata": {},
   "source": [
    "First, I want to check if there is a bias in ratings because of a small number of observations. A bias would point to smaller counts having higher ratings in a downward slope. A scatterplot of these two variables can show this relationship. "
   ]
  },
  {
   "cell_type": "code",
   "execution_count": 1037,
   "id": "be3b0d4e",
   "metadata": {},
   "outputs": [
    {
     "data": {
      "image/png": "[encoded data removed]",
      "text/plain": [
       "<Figure size 1440x720 with 1 Axes>"
      ]
     },
     "metadata": {
      "needs_background": "light"
     },
     "output_type": "display_data"
    }
   ],
   "source": [
    "# Plotting a scatter\n",
    "plt.figure(figsize=(20,10))# figsize to control size of figure\n",
    "plt.scatter(df5['Count'], df5['Rating'], s=100)\n",
    "plt.vlines(df5['Count'].mean(), 3.9, 4.5, color=\"red\", linestyles=\"--\", label='mean count')\n",
    "plt.hlines(df5['Rating'].mean(), 0, 1750, color=\"black\", linestyles=\"--\", label='mean rating')\n",
    "plt.xlabel('Count',size=11)\n",
    "plt.ylabel('Average Rating', size=11)\n",
    "plt.title('Category count vs Average Rating by Category', size=14)\n",
    "plt.legend()\n",
    "plt.show();"
   ]
  },
  {
   "cell_type": "markdown",
   "id": "83adaea8",
   "metadata": {},
   "source": [
    "Although there is a slight downward slope in the left upper quadrante and the highest rated app has a count of less than 269, there are quite a few `Categories` with more than the average 4.20 rating and more than 269 observations. \n",
    "\n",
    "Furthermore, the bottom left quadrant has a lower than average rating despite having relatively few observations. Hence, a poistive bias in rating coming from a `Category`have few observations is not obvious. "
   ]
  },
  {
   "cell_type": "markdown",
   "id": "ddb9f7b3",
   "metadata": {},
   "source": [
    "Now let's check on the top ratings performers  "
   ]
  },
  {
   "cell_type": "code",
   "execution_count": 1038,
   "id": "ff034c75",
   "metadata": {},
   "outputs": [],
   "source": [
    "## Instead of alphabetical order by category, I will sort by average value\n",
    "df5.sort_values('Rating', axis=0, ascending=False, inplace=True)"
   ]
  },
  {
   "cell_type": "code",
   "execution_count": 1039,
   "id": "e2c9eb7e",
   "metadata": {},
   "outputs": [
    {
     "data": {
      "image/png": "[encoded data removed]",
      "text/plain": [
       "<Figure size 1440x720 with 1 Axes>"
      ]
     },
     "metadata": {
      "needs_background": "light"
     },
     "output_type": "display_data"
    }
   ],
   "source": [
    "# Plotting a scatter\n",
    "plt.figure(figsize=(20,10))# figsize to control size of figure\n",
    "plt.scatter(df5['Category'], df5['Rating'], s=100, alpha=0.5)\n",
    "plt.xlabel('Category',size=11)\n",
    "plt.ylabel('Average Rating', size=11)\n",
    "plt.hlines(df5['Rating'].mean(), 0, 33, color=\"red\", linestyles=\"--\", label='mean rating')\n",
    "plt.legend()\n",
    "plt.title('Average Rating per Category', size=14)\n",
    "plt.xticks(df3['Category'], rotation=80, size=8)\n",
    "plt.grid()      \n",
    "plt.show();"
   ]
  },
  {
   "cell_type": "markdown",
   "id": "c5fab5bf",
   "metadata": {},
   "source": [
    "There is a group of five distinct top performers.\n",
    "- EVENTS is by itself, clearly above the diagonal downward slope. \n",
    "- EDUCATION, ART_AND_DESIGN, BOOKS_AND_REFERENCE and PERSONALIZATOIN are next. \n",
    "\n",
    "The four are aligned in the same slope. The next one, PARENTING, is aligned with the slope of the next tier.  \n",
    "\n",
    "*Hence, PERSONALIZATION is the last of the \"top performers\".* \n",
    "\n",
    "Conversely, the bottom 5 perfomers are: \n",
    "- TRAVEL_AND_LOCAL, \n",
    "- VIDEO PLAYERS\n",
    "- MAPS_AND_NAVIGATION \n",
    "- TOOLS\n",
    "- DATING\n",
    "\n",
    "Let's look deeper into EVENTS. How many reviews do the top apps have?"
   ]
  },
  {
   "cell_type": "code",
   "execution_count": 1040,
   "id": "5ae1e4c7",
   "metadata": {
    "scrolled": false
   },
   "outputs": [
    {
     "data": {
      "text/html": [
       "<div>\n",
       "<style scoped>\n",
       "    .dataframe tbody tr th:only-of-type {\n",
       "        vertical-align: middle;\n",
       "    }\n",
       "\n",
       "    .dataframe tbody tr th {\n",
       "        vertical-align: top;\n",
       "    }\n",
       "\n",
       "    .dataframe thead th {\n",
       "        text-align: right;\n",
       "    }\n",
       "</style>\n",
       "<table border=\"1\" class=\"dataframe\">\n",
       "  <thead>\n",
       "    <tr style=\"text-align: right;\">\n",
       "      <th></th>\n",
       "      <th>App</th>\n",
       "      <th>Category</th>\n",
       "      <th>Rating</th>\n",
       "      <th>Reviews</th>\n",
       "      <th>Size</th>\n",
       "      <th>Installs</th>\n",
       "      <th>Type</th>\n",
       "      <th>Content Rating</th>\n",
       "      <th>Genres</th>\n",
       "      <th>Last Updated</th>\n",
       "      <th>Current Ver</th>\n",
       "      <th>Android Ver</th>\n",
       "      <th>Price</th>\n",
       "      <th>Popularity</th>\n",
       "      <th>Cat_Reviews</th>\n",
       "      <th>Cat_Content</th>\n",
       "    </tr>\n",
       "  </thead>\n",
       "  <tbody>\n",
       "    <tr>\n",
       "      <th>7658</th>\n",
       "      <td>EF Events</td>\n",
       "      <td>EVENTS</td>\n",
       "      <td>5.0</td>\n",
       "      <td>7.0</td>\n",
       "      <td>4.4M</td>\n",
       "      <td>100+</td>\n",
       "      <td>Free</td>\n",
       "      <td>Teen</td>\n",
       "      <td>EVENTS</td>\n",
       "      <td>October 5, 2017</td>\n",
       "      <td>Varies with device</td>\n",
       "      <td>Varies with device</td>\n",
       "      <td>0.0</td>\n",
       "      <td>Small</td>\n",
       "      <td>Unstable</td>\n",
       "      <td>Teen</td>\n",
       "    </tr>\n",
       "    <tr>\n",
       "      <th>7665</th>\n",
       "      <td>EK Bailey Preaching Conference</td>\n",
       "      <td>EVENTS</td>\n",
       "      <td>5.0</td>\n",
       "      <td>3.0</td>\n",
       "      <td>30M</td>\n",
       "      <td>500+</td>\n",
       "      <td>Free</td>\n",
       "      <td>Everyone</td>\n",
       "      <td>EVENTS</td>\n",
       "      <td>July 2, 2018</td>\n",
       "      <td>5.30.01</td>\n",
       "      <td>5.1 and up</td>\n",
       "      <td>0.0</td>\n",
       "      <td>Small</td>\n",
       "      <td>Unstable</td>\n",
       "      <td>Everyone</td>\n",
       "    </tr>\n",
       "    <tr>\n",
       "      <th>7672</th>\n",
       "      <td>Mindvalley U Tallinn 2018</td>\n",
       "      <td>EVENTS</td>\n",
       "      <td>5.0</td>\n",
       "      <td>1.0</td>\n",
       "      <td>21M</td>\n",
       "      <td>100+</td>\n",
       "      <td>Free</td>\n",
       "      <td>Everyone</td>\n",
       "      <td>EVENTS</td>\n",
       "      <td>July 3, 2018</td>\n",
       "      <td>1.0.5</td>\n",
       "      <td>4.4 and up</td>\n",
       "      <td>0.0</td>\n",
       "      <td>Small</td>\n",
       "      <td>Unstable</td>\n",
       "      <td>Everyone</td>\n",
       "    </tr>\n",
       "    <tr>\n",
       "      <th>7673</th>\n",
       "      <td>SUMMER SONIC app</td>\n",
       "      <td>EVENTS</td>\n",
       "      <td>5.0</td>\n",
       "      <td>4.0</td>\n",
       "      <td>61M</td>\n",
       "      <td>500+</td>\n",
       "      <td>Free</td>\n",
       "      <td>Everyone</td>\n",
       "      <td>EVENTS</td>\n",
       "      <td>July 24, 2018</td>\n",
       "      <td>1</td>\n",
       "      <td>4.4 and up</td>\n",
       "      <td>0.0</td>\n",
       "      <td>Small</td>\n",
       "      <td>Unstable</td>\n",
       "      <td>Everyone</td>\n",
       "    </tr>\n",
       "    <tr>\n",
       "      <th>7687</th>\n",
       "      <td>FAST EO</td>\n",
       "      <td>EVENTS</td>\n",
       "      <td>5.0</td>\n",
       "      <td>1.0</td>\n",
       "      <td>Varies with device</td>\n",
       "      <td>10+</td>\n",
       "      <td>Free</td>\n",
       "      <td>Everyone</td>\n",
       "      <td>EVENTS</td>\n",
       "      <td>May 15, 2018</td>\n",
       "      <td>1.0.3</td>\n",
       "      <td>4.1 and up</td>\n",
       "      <td>0.0</td>\n",
       "      <td>Small</td>\n",
       "      <td>Unstable</td>\n",
       "      <td>Everyone</td>\n",
       "    </tr>\n",
       "    <tr>\n",
       "      <th>7702</th>\n",
       "      <td>Prosperity</td>\n",
       "      <td>EVENTS</td>\n",
       "      <td>5.0</td>\n",
       "      <td>16.0</td>\n",
       "      <td>2.3M</td>\n",
       "      <td>100+</td>\n",
       "      <td>Free</td>\n",
       "      <td>Everyone</td>\n",
       "      <td>EVENTS</td>\n",
       "      <td>July 9, 2018</td>\n",
       "      <td>1.14</td>\n",
       "      <td>2.0 and up</td>\n",
       "      <td>0.0</td>\n",
       "      <td>Small</td>\n",
       "      <td>Unstable</td>\n",
       "      <td>Everyone</td>\n",
       "    </tr>\n",
       "  </tbody>\n",
       "</table>\n",
       "</div>"
      ],
      "text/plain": [
       "                                 App Category  Rating  Reviews  \\\n",
       "7658                       EF Events   EVENTS     5.0      7.0   \n",
       "7665  EK Bailey Preaching Conference   EVENTS     5.0      3.0   \n",
       "7672       Mindvalley U Tallinn 2018   EVENTS     5.0      1.0   \n",
       "7673                SUMMER SONIC app   EVENTS     5.0      4.0   \n",
       "7687                         FAST EO   EVENTS     5.0      1.0   \n",
       "7702                      Prosperity   EVENTS     5.0     16.0   \n",
       "\n",
       "                    Size Installs  Type Content Rating  Genres  \\\n",
       "7658                4.4M     100+  Free           Teen  EVENTS   \n",
       "7665                 30M     500+  Free       Everyone  EVENTS   \n",
       "7672                 21M     100+  Free       Everyone  EVENTS   \n",
       "7673                 61M     500+  Free       Everyone  EVENTS   \n",
       "7687  Varies with device      10+  Free       Everyone  EVENTS   \n",
       "7702                2.3M     100+  Free       Everyone  EVENTS   \n",
       "\n",
       "         Last Updated         Current Ver         Android Ver  Price  \\\n",
       "7658  October 5, 2017  Varies with device  Varies with device    0.0   \n",
       "7665     July 2, 2018             5.30.01          5.1 and up    0.0   \n",
       "7672     July 3, 2018               1.0.5          4.4 and up    0.0   \n",
       "7673    July 24, 2018                   1          4.4 and up    0.0   \n",
       "7687     May 15, 2018               1.0.3          4.1 and up    0.0   \n",
       "7702     July 9, 2018                1.14          2.0 and up    0.0   \n",
       "\n",
       "     Popularity Cat_Reviews Cat_Content  \n",
       "7658      Small    Unstable        Teen  \n",
       "7665      Small    Unstable    Everyone  \n",
       "7672      Small    Unstable    Everyone  \n",
       "7673      Small    Unstable    Everyone  \n",
       "7687      Small    Unstable    Everyone  \n",
       "7702      Small    Unstable    Everyone  "
      ]
     },
     "execution_count": 1040,
     "metadata": {},
     "output_type": "execute_result"
    }
   ],
   "source": [
    "df1 [(df1['Category']=='EVENTS') & (df1['Rating']==5)]"
   ]
  },
  {
   "cell_type": "markdown",
   "id": "05d57c1d",
   "metadata": {},
   "source": [
    "There are the five app with the maximum rating for EVENTS, yet the number of reviews is small. Hence, the `Cat_Reviews` variable is categorized as Unstable. What would happen if we performed the original analysis only for Medium and Stable in Cat_Reviews? "
   ]
  },
  {
   "cell_type": "markdown",
   "id": "8af5be71",
   "metadata": {},
   "source": [
    "#### Controlling for number of reviews"
   ]
  },
  {
   "cell_type": "code",
   "execution_count": 1041,
   "id": "ebf2657c",
   "metadata": {},
   "outputs": [],
   "source": [
    "#Creating a df with only these two Cat_Reviews\n",
    "df6=df1[(df1['Cat_Reviews']=='Medium') | (df1['Cat_Reviews']=='Stable')]"
   ]
  },
  {
   "cell_type": "code",
   "execution_count": 1042,
   "id": "0c1f5480",
   "metadata": {
    "scrolled": true
   },
   "outputs": [
    {
     "data": {
      "text/html": [
       "<div>\n",
       "<style scoped>\n",
       "    .dataframe tbody tr th:only-of-type {\n",
       "        vertical-align: middle;\n",
       "    }\n",
       "\n",
       "    .dataframe tbody tr th {\n",
       "        vertical-align: top;\n",
       "    }\n",
       "\n",
       "    .dataframe thead th {\n",
       "        text-align: right;\n",
       "    }\n",
       "</style>\n",
       "<table border=\"1\" class=\"dataframe\">\n",
       "  <thead>\n",
       "    <tr style=\"text-align: right;\">\n",
       "      <th></th>\n",
       "      <th>App</th>\n",
       "      <th>Category</th>\n",
       "      <th>Rating</th>\n",
       "      <th>Reviews</th>\n",
       "      <th>Size</th>\n",
       "      <th>Installs</th>\n",
       "      <th>Type</th>\n",
       "      <th>Content Rating</th>\n",
       "      <th>Genres</th>\n",
       "      <th>Last Updated</th>\n",
       "      <th>Current Ver</th>\n",
       "      <th>Android Ver</th>\n",
       "      <th>Price</th>\n",
       "      <th>Popularity</th>\n",
       "      <th>Cat_Reviews</th>\n",
       "      <th>Cat_Content</th>\n",
       "    </tr>\n",
       "  </thead>\n",
       "  <tbody>\n",
       "    <tr>\n",
       "      <th>0</th>\n",
       "      <td>Weather Live</td>\n",
       "      <td>WEATHER</td>\n",
       "      <td>4.5</td>\n",
       "      <td>76593.0</td>\n",
       "      <td>Varies with device</td>\n",
       "      <td>500,000+</td>\n",
       "      <td>Paid</td>\n",
       "      <td>Everyone</td>\n",
       "      <td>WEATHER</td>\n",
       "      <td>November 21, 2017</td>\n",
       "      <td>Varies with device</td>\n",
       "      <td>Varies with device</td>\n",
       "      <td>5.99</td>\n",
       "      <td>Medium</td>\n",
       "      <td>Stable</td>\n",
       "      <td>Everyone</td>\n",
       "    </tr>\n",
       "    <tr>\n",
       "      <th>1</th>\n",
       "      <td>Weather by WeatherBug: Forecast</td>\n",
       "      <td>WEATHER</td>\n",
       "      <td>4.5</td>\n",
       "      <td>981995.0</td>\n",
       "      <td>Varies with device</td>\n",
       "      <td>10,000,000+</td>\n",
       "      <td>Free</td>\n",
       "      <td>Everyone</td>\n",
       "      <td>WEATHER</td>\n",
       "      <td>June 7, 2018</td>\n",
       "      <td>Varies with device</td>\n",
       "      <td>Varies with device</td>\n",
       "      <td>0.00</td>\n",
       "      <td>Large</td>\n",
       "      <td>Stable</td>\n",
       "      <td>Everyone</td>\n",
       "    </tr>\n",
       "    <tr>\n",
       "      <th>2</th>\n",
       "      <td>SMHI Weather</td>\n",
       "      <td>WEATHER</td>\n",
       "      <td>3.5</td>\n",
       "      <td>11297.0</td>\n",
       "      <td>Varies with device</td>\n",
       "      <td>1,000,000+</td>\n",
       "      <td>Free</td>\n",
       "      <td>Everyone</td>\n",
       "      <td>WEATHER</td>\n",
       "      <td>June 26, 2018</td>\n",
       "      <td>Varies with device</td>\n",
       "      <td>Varies with device</td>\n",
       "      <td>0.00</td>\n",
       "      <td>Large</td>\n",
       "      <td>Stable</td>\n",
       "      <td>Everyone</td>\n",
       "    </tr>\n",
       "    <tr>\n",
       "      <th>3</th>\n",
       "      <td>Storm Radar: Tornado Tracker &amp; Hurricane Alerts</td>\n",
       "      <td>WEATHER</td>\n",
       "      <td>4.6</td>\n",
       "      <td>89868.0</td>\n",
       "      <td>Varies with device</td>\n",
       "      <td>1,000,000+</td>\n",
       "      <td>Free</td>\n",
       "      <td>Everyone</td>\n",
       "      <td>WEATHER</td>\n",
       "      <td>June 12, 2018</td>\n",
       "      <td>Varies with device</td>\n",
       "      <td>Varies with device</td>\n",
       "      <td>0.00</td>\n",
       "      <td>Large</td>\n",
       "      <td>Stable</td>\n",
       "      <td>Everyone</td>\n",
       "    </tr>\n",
       "    <tr>\n",
       "      <th>4</th>\n",
       "      <td>Weather From DMI/YR</td>\n",
       "      <td>WEATHER</td>\n",
       "      <td>4.3</td>\n",
       "      <td>2143.0</td>\n",
       "      <td>Varies with device</td>\n",
       "      <td>100,000+</td>\n",
       "      <td>Free</td>\n",
       "      <td>Everyone</td>\n",
       "      <td>WEATHER</td>\n",
       "      <td>July 31, 2018</td>\n",
       "      <td>Varies with device</td>\n",
       "      <td>Varies with device</td>\n",
       "      <td>0.00</td>\n",
       "      <td>Medium</td>\n",
       "      <td>Medium</td>\n",
       "      <td>Everyone</td>\n",
       "    </tr>\n",
       "  </tbody>\n",
       "</table>\n",
       "</div>"
      ],
      "text/plain": [
       "                                               App Category  Rating   Reviews  \\\n",
       "0                                     Weather Live  WEATHER     4.5   76593.0   \n",
       "1                  Weather by WeatherBug: Forecast  WEATHER     4.5  981995.0   \n",
       "2                                     SMHI Weather  WEATHER     3.5   11297.0   \n",
       "3  Storm Radar: Tornado Tracker & Hurricane Alerts  WEATHER     4.6   89868.0   \n",
       "4                              Weather From DMI/YR  WEATHER     4.3    2143.0   \n",
       "\n",
       "                 Size     Installs  Type Content Rating   Genres  \\\n",
       "0  Varies with device     500,000+  Paid       Everyone  WEATHER   \n",
       "1  Varies with device  10,000,000+  Free       Everyone  WEATHER   \n",
       "2  Varies with device   1,000,000+  Free       Everyone  WEATHER   \n",
       "3  Varies with device   1,000,000+  Free       Everyone  WEATHER   \n",
       "4  Varies with device     100,000+  Free       Everyone  WEATHER   \n",
       "\n",
       "        Last Updated         Current Ver         Android Ver  Price  \\\n",
       "0  November 21, 2017  Varies with device  Varies with device   5.99   \n",
       "1       June 7, 2018  Varies with device  Varies with device   0.00   \n",
       "2      June 26, 2018  Varies with device  Varies with device   0.00   \n",
       "3      June 12, 2018  Varies with device  Varies with device   0.00   \n",
       "4      July 31, 2018  Varies with device  Varies with device   0.00   \n",
       "\n",
       "  Popularity Cat_Reviews Cat_Content  \n",
       "0     Medium      Stable    Everyone  \n",
       "1      Large      Stable    Everyone  \n",
       "2      Large      Stable    Everyone  \n",
       "3      Large      Stable    Everyone  \n",
       "4     Medium      Medium    Everyone  "
      ]
     },
     "execution_count": 1042,
     "metadata": {},
     "output_type": "execute_result"
    }
   ],
   "source": [
    "df6.head()"
   ]
  },
  {
   "cell_type": "code",
   "execution_count": 1043,
   "id": "cc271bc3",
   "metadata": {},
   "outputs": [
    {
     "data": {
      "text/plain": [
       "(6684, 16)"
      ]
     },
     "execution_count": 1043,
     "metadata": {},
     "output_type": "execute_result"
    }
   ],
   "source": [
    "df6.shape"
   ]
  },
  {
   "cell_type": "code",
   "execution_count": 1044,
   "id": "72083d27",
   "metadata": {},
   "outputs": [],
   "source": [
    "## Preparing for visualization by grouping per category\n",
    "stable_group=df6.groupby('Category').mean()['Rating']"
   ]
  },
  {
   "cell_type": "code",
   "execution_count": 1045,
   "id": "1748e78f",
   "metadata": {},
   "outputs": [
    {
     "data": {
      "text/plain": [
       "Category\n",
       "ART_AND_DESIGN         4.351111\n",
       "AUTO_AND_VEHICLES      4.326000\n",
       "BEAUTY                 4.325926\n",
       "BOOKS_AND_REFERENCE    4.412931\n",
       "BUSINESS               4.186525\n",
       "COMICS                 4.173913\n",
       "COMMUNICATION          4.193033\n",
       "DATING                 3.970000\n",
       "EDUCATION              4.373016\n",
       "ENTERTAINMENT          4.136036\n",
       "EVENTS                 4.334783\n",
       "FAMILY                 4.182184\n",
       "FINANCE                4.196380\n",
       "FOOD_AND_DRINK         4.220213\n",
       "GAME                   4.292959\n",
       "HEALTH_AND_FITNESS     4.353774\n",
       "HOUSE_AND_HOME         4.155738\n",
       "LIBRARIES_AND_DEMO     4.150000\n",
       "LIFESTYLE              4.027895\n",
       "MAPS_AND_NAVIGATION    4.147191\n",
       "MEDICAL                4.272993\n",
       "NEWS_AND_MAGAZINES     4.118065\n",
       "PARENTING              4.362857\n",
       "PERSONALIZATION        4.334742\n",
       "PHOTOGRAPHY            4.228736\n",
       "PRODUCTIVITY           4.265625\n",
       "SHOPPING               4.261494\n",
       "SOCIAL                 4.282653\n",
       "SPORTS                 4.258607\n",
       "TOOLS                  4.131299\n",
       "TRAVEL_AND_LOCAL       4.147403\n",
       "VIDEO_PLAYERS          4.155039\n",
       "WEATHER                4.277143\n",
       "Name: Rating, dtype: float64"
      ]
     },
     "execution_count": 1045,
     "metadata": {},
     "output_type": "execute_result"
    }
   ],
   "source": [
    "stable_group"
   ]
  },
  {
   "cell_type": "code",
   "execution_count": 1046,
   "id": "1fa92831",
   "metadata": {},
   "outputs": [],
   "source": [
    "## Creating a new df for visualization \n",
    "df7=pd.DataFrame(data=stable_group).reset_index()"
   ]
  },
  {
   "cell_type": "code",
   "execution_count": 1047,
   "id": "ca572669",
   "metadata": {},
   "outputs": [],
   "source": [
    "## Instead of alphabetical order by category, I will sort by average value\n",
    "df7.sort_values('Rating', axis=0, ascending=False, inplace=True)"
   ]
  },
  {
   "cell_type": "code",
   "execution_count": 1048,
   "id": "786d8915",
   "metadata": {},
   "outputs": [
    {
     "data": {
      "image/png": "[encoded data removed]",
      "text/plain": [
       "<Figure size 1440x720 with 1 Axes>"
      ]
     },
     "metadata": {
      "needs_background": "light"
     },
     "output_type": "display_data"
    }
   ],
   "source": [
    "# Plotting a scatterplot\n",
    "plt.figure(figsize=(20,10))# figsize to control size of figure\n",
    "plt.scatter(df7['Category'], df7['Rating'], s=100, alpha=0.5)\n",
    "plt.xlabel('Category',size=11)\n",
    "plt.ylabel('Average Rating', size=11)\n",
    "plt.hlines(df7['Rating'].mean(), 0, 33, color=\"red\", linestyles=\"--\", label='mean rating')\n",
    "plt.legend()\n",
    "plt.title('Average Rating per Category without Unstable Ratings', size=14)\n",
    "plt.xticks(df7['Category'], rotation=80, size=8)\n",
    "plt.grid()      \n",
    "plt.show();"
   ]
  },
  {
   "cell_type": "markdown",
   "id": "9bc9a0a7",
   "metadata": {},
   "source": [
    "When I control for number of reviews, the top 5 rated categories are: \n",
    "\n",
    "- BOOKS_AND_REFERENCE\n",
    "- EDUCATION\n",
    "- PARENTING\n",
    "- HEALTH AND FITNESS\n",
    "- ART AND DESIGN \n",
    "\n",
    "Hence, when controlling for number of reviews, BOOKS_AND_REFERENCE, EDUCATION and ART_AND_DESIGN are in both groups. For the purpose of the top/bottom perfomance analysis, I will keep this latest stable reviews grouping. "
   ]
  },
  {
   "cell_type": "markdown",
   "id": "7bb27ce5",
   "metadata": {},
   "source": [
    "#### Top and bottom performing categories"
   ]
  },
  {
   "cell_type": "markdown",
   "id": "ca600314",
   "metadata": {},
   "source": [
    "I create a dataframe of just the top performers will aid to visualize the distributions of ratings for each category. Conversely, I also create a dataframe for bottom performers to compare the results with the first group. "
   ]
  },
  {
   "cell_type": "code",
   "execution_count": 1049,
   "id": "77409822",
   "metadata": {},
   "outputs": [],
   "source": [
    "topperf=df6 [(df6['Category']=='BOOKS_AND_REFERENCE') | (df6['Category']=='EDUCATION') | (df6['Category']=='PARENTING') | (df6['Category']=='HEALTH_AND_FITNESS') | (df6['Category']=='ART_AND_DESIGN') ]"
   ]
  },
  {
   "cell_type": "code",
   "execution_count": 1050,
   "id": "4a912155",
   "metadata": {},
   "outputs": [
    {
     "name": "stdout",
     "output_type": "stream",
     "text": [
      "<class 'pandas.core.frame.DataFrame'>\n",
      "Int64Index: 534 entries, 2854 to 8894\n",
      "Data columns (total 16 columns):\n",
      " #   Column          Non-Null Count  Dtype  \n",
      "---  ------          --------------  -----  \n",
      " 0   App             534 non-null    object \n",
      " 1   Category        534 non-null    object \n",
      " 2   Rating          534 non-null    float64\n",
      " 3   Reviews         534 non-null    float64\n",
      " 4   Size            534 non-null    object \n",
      " 5   Installs        534 non-null    object \n",
      " 6   Type            534 non-null    object \n",
      " 7   Content Rating  534 non-null    object \n",
      " 8   Genres          534 non-null    object \n",
      " 9   Last Updated    499 non-null    object \n",
      " 10  Current Ver     498 non-null    object \n",
      " 11  Android Ver     496 non-null    object \n",
      " 12  Price           534 non-null    float64\n",
      " 13  Popularity      534 non-null    object \n",
      " 14  Cat_Reviews     534 non-null    object \n",
      " 15  Cat_Content     534 non-null    object \n",
      "dtypes: float64(3), object(13)\n",
      "memory usage: 70.9+ KB\n"
     ]
    }
   ],
   "source": [
    "topperf.info()"
   ]
  },
  {
   "cell_type": "code",
   "execution_count": 1051,
   "id": "ad1cc3b3",
   "metadata": {},
   "outputs": [
    {
     "data": {
      "image/png": "[encoded data removed]",
      "text/plain": [
       "<Figure size 1152x576 with 1 Axes>"
      ]
     },
     "metadata": {
      "needs_background": "light"
     },
     "output_type": "display_data"
    }
   ],
   "source": [
    "# Boxplot by Category for top performers\n",
    "plt.figure(figsize=(16,8))\n",
    "sns.boxplot(data=topperf, x='Category', y='Rating')\n",
    "plt.show();"
   ]
  },
  {
   "cell_type": "markdown",
   "id": "d8ab0dc0",
   "metadata": {},
   "source": [
    "EDUCATION is the most consistent performer, with only one outlier outside the distribution at the bottom at around 3.5, the smallest IQR and the smallest range. Yet its highest ratings are a bit lower than three of the four categories in the group. \n",
    "ART_AND_DESIGN, PARENTING and BOOKS_AND_REFERENCE have similar characteristics, though the first has no outliers at the bottom. HEALTH_AND_FITNESS has the highest median, yet quite a few bad and really bad apps at the bottom of the distribution. "
   ]
  },
  {
   "cell_type": "markdown",
   "id": "604814ff",
   "metadata": {},
   "source": [
    "Now, let's compare this group with the bottom performers."
   ]
  },
  {
   "cell_type": "code",
   "execution_count": 1052,
   "id": "b95921ae",
   "metadata": {},
   "outputs": [],
   "source": [
    "bottomperf=df6 [(df6['Category']=='ENTERTAINMENT') | (df6['Category']=='TOOLS') | (df6['Category']=='NEWS_AND_MAGAZINES') | (df6['Category']=='LIFESTYLE') | (df6['Category']=='DATING') ]"
   ]
  },
  {
   "cell_type": "code",
   "execution_count": 1053,
   "id": "006fab26",
   "metadata": {},
   "outputs": [
    {
     "data": {
      "image/png": "[encoded data removed]",
      "text/plain": [
       "<Figure size 1152x576 with 1 Axes>"
      ]
     },
     "metadata": {
      "needs_background": "light"
     },
     "output_type": "display_data"
    }
   ],
   "source": [
    "# Boxplot by Category for bottom performers\n",
    "plt.figure(figsize=(16,8))\n",
    "sns.boxplot(data=bottomperf, x='Category', y='Rating')\n",
    "plt.show();"
   ]
  },
  {
   "cell_type": "markdown",
   "id": "daf21f26",
   "metadata": {},
   "source": [
    "In this case, there are quite a few outliers at the bottom for all categories, especially for TOOLS and LIFESTYLE. In the case of DATING, one app gets a really bad rating, yet the median value is the lowest and so is the top of the range, although there are 3 outliers at the top. The sense is that, on average, the category has an OK rating, but few really great apps.  "
   ]
  },
  {
   "cell_type": "markdown",
   "id": "d346d54c",
   "metadata": {},
   "source": [
    "### Is there a difference in ratings between paid and free apps?"
   ]
  },
  {
   "cell_type": "markdown",
   "id": "6bf81ac2",
   "metadata": {},
   "source": [
    "A violin plot can help visualize the difference and the describe method will outline the shape of both distributions. "
   ]
  },
  {
   "cell_type": "code",
   "execution_count": 1054,
   "id": "6bbf4970",
   "metadata": {},
   "outputs": [
    {
     "data": {
      "image/png": "[encoded data removed]",
      "text/plain": [
       "<Figure size 1152x576 with 1 Axes>"
      ]
     },
     "metadata": {
      "needs_background": "light"
     },
     "output_type": "display_data"
    }
   ],
   "source": [
    "## Violin plot for Type of app\n",
    "plt.figure(figsize=(16,8))\n",
    "base_color = sns.color_palette()[4]\n",
    "\n",
    "ax=sns.violinplot(data=df1, x='Type', y='Rating', color=base_color, innner=None)"
   ]
  },
  {
   "cell_type": "code",
   "execution_count": 1055,
   "id": "f1f09e47",
   "metadata": {},
   "outputs": [
    {
     "data": {
      "text/html": [
       "<div>\n",
       "<style scoped>\n",
       "    .dataframe tbody tr th:only-of-type {\n",
       "        vertical-align: middle;\n",
       "    }\n",
       "\n",
       "    .dataframe tbody tr th {\n",
       "        vertical-align: top;\n",
       "    }\n",
       "\n",
       "    .dataframe thead th {\n",
       "        text-align: right;\n",
       "    }\n",
       "</style>\n",
       "<table border=\"1\" class=\"dataframe\">\n",
       "  <thead>\n",
       "    <tr style=\"text-align: right;\">\n",
       "      <th></th>\n",
       "      <th>Rating</th>\n",
       "      <th>Reviews</th>\n",
       "      <th>Price</th>\n",
       "    </tr>\n",
       "  </thead>\n",
       "  <tbody>\n",
       "    <tr>\n",
       "      <th>count</th>\n",
       "      <td>614.000000</td>\n",
       "      <td>6.130000e+02</td>\n",
       "      <td>614.000000</td>\n",
       "    </tr>\n",
       "    <tr>\n",
       "      <th>mean</th>\n",
       "      <td>4.261075</td>\n",
       "      <td>1.485037e+04</td>\n",
       "      <td>13.954984</td>\n",
       "    </tr>\n",
       "    <tr>\n",
       "      <th>std</th>\n",
       "      <td>0.556586</td>\n",
       "      <td>1.380872e+05</td>\n",
       "      <td>60.165323</td>\n",
       "    </tr>\n",
       "    <tr>\n",
       "      <th>min</th>\n",
       "      <td>1.000000</td>\n",
       "      <td>1.000000e+00</td>\n",
       "      <td>0.990000</td>\n",
       "    </tr>\n",
       "    <tr>\n",
       "      <th>25%</th>\n",
       "      <td>4.100000</td>\n",
       "      <td>3.100000e+01</td>\n",
       "      <td>1.990000</td>\n",
       "    </tr>\n",
       "    <tr>\n",
       "      <th>50%</th>\n",
       "      <td>4.400000</td>\n",
       "      <td>2.140000e+02</td>\n",
       "      <td>2.990000</td>\n",
       "    </tr>\n",
       "    <tr>\n",
       "      <th>75%</th>\n",
       "      <td>4.600000</td>\n",
       "      <td>2.359000e+03</td>\n",
       "      <td>4.990000</td>\n",
       "    </tr>\n",
       "    <tr>\n",
       "      <th>max</th>\n",
       "      <td>5.000000</td>\n",
       "      <td>2.376564e+06</td>\n",
       "      <td>400.000000</td>\n",
       "    </tr>\n",
       "  </tbody>\n",
       "</table>\n",
       "</div>"
      ],
      "text/plain": [
       "           Rating       Reviews       Price\n",
       "count  614.000000  6.130000e+02  614.000000\n",
       "mean     4.261075  1.485037e+04   13.954984\n",
       "std      0.556586  1.380872e+05   60.165323\n",
       "min      1.000000  1.000000e+00    0.990000\n",
       "25%      4.100000  3.100000e+01    1.990000\n",
       "50%      4.400000  2.140000e+02    2.990000\n",
       "75%      4.600000  2.359000e+03    4.990000\n",
       "max      5.000000  2.376564e+06  400.000000"
      ]
     },
     "execution_count": 1055,
     "metadata": {},
     "output_type": "execute_result"
    }
   ],
   "source": [
    "df1[df1['Type']=='Paid'].describe()"
   ]
  },
  {
   "cell_type": "code",
   "execution_count": 1056,
   "id": "63d38b24",
   "metadata": {},
   "outputs": [
    {
     "data": {
      "text/html": [
       "<div>\n",
       "<style scoped>\n",
       "    .dataframe tbody tr th:only-of-type {\n",
       "        vertical-align: middle;\n",
       "    }\n",
       "\n",
       "    .dataframe tbody tr th {\n",
       "        vertical-align: top;\n",
       "    }\n",
       "\n",
       "    .dataframe thead th {\n",
       "        text-align: right;\n",
       "    }\n",
       "</style>\n",
       "<table border=\"1\" class=\"dataframe\">\n",
       "  <thead>\n",
       "    <tr style=\"text-align: right;\">\n",
       "      <th></th>\n",
       "      <th>Rating</th>\n",
       "      <th>Reviews</th>\n",
       "      <th>Price</th>\n",
       "    </tr>\n",
       "  </thead>\n",
       "  <tbody>\n",
       "    <tr>\n",
       "      <th>count</th>\n",
       "      <td>8281.00000</td>\n",
       "      <td>8.281000e+03</td>\n",
       "      <td>8281.0</td>\n",
       "    </tr>\n",
       "    <tr>\n",
       "      <th>mean</th>\n",
       "      <td>4.18214</td>\n",
       "      <td>5.065604e+05</td>\n",
       "      <td>0.0</td>\n",
       "    </tr>\n",
       "    <tr>\n",
       "      <th>std</th>\n",
       "      <td>0.51989</td>\n",
       "      <td>3.007334e+06</td>\n",
       "      <td>0.0</td>\n",
       "    </tr>\n",
       "    <tr>\n",
       "      <th>min</th>\n",
       "      <td>1.00000</td>\n",
       "      <td>1.000000e+00</td>\n",
       "      <td>0.0</td>\n",
       "    </tr>\n",
       "    <tr>\n",
       "      <th>25%</th>\n",
       "      <td>4.00000</td>\n",
       "      <td>2.030000e+02</td>\n",
       "      <td>0.0</td>\n",
       "    </tr>\n",
       "    <tr>\n",
       "      <th>50%</th>\n",
       "      <td>4.30000</td>\n",
       "      <td>6.449000e+03</td>\n",
       "      <td>0.0</td>\n",
       "    </tr>\n",
       "    <tr>\n",
       "      <th>75%</th>\n",
       "      <td>4.50000</td>\n",
       "      <td>8.538700e+04</td>\n",
       "      <td>0.0</td>\n",
       "    </tr>\n",
       "    <tr>\n",
       "      <th>max</th>\n",
       "      <td>5.00000</td>\n",
       "      <td>7.815831e+07</td>\n",
       "      <td>0.0</td>\n",
       "    </tr>\n",
       "  </tbody>\n",
       "</table>\n",
       "</div>"
      ],
      "text/plain": [
       "           Rating       Reviews   Price\n",
       "count  8281.00000  8.281000e+03  8281.0\n",
       "mean      4.18214  5.065604e+05     0.0\n",
       "std       0.51989  3.007334e+06     0.0\n",
       "min       1.00000  1.000000e+00     0.0\n",
       "25%       4.00000  2.030000e+02     0.0\n",
       "50%       4.30000  6.449000e+03     0.0\n",
       "75%       4.50000  8.538700e+04     0.0\n",
       "max       5.00000  7.815831e+07     0.0"
      ]
     },
     "execution_count": 1056,
     "metadata": {},
     "output_type": "execute_result"
    }
   ],
   "source": [
    "df1[df1['Type']=='Free'].describe()"
   ]
  },
  {
   "cell_type": "markdown",
   "id": "19644561",
   "metadata": {},
   "source": [
    "Yes, there seems to be a slight difference, especially at the top. Paid apps have higher ratings, which makes the mean of the distribution higher than that of the free apps. It is worth noting that there are much fewer observations in the paid case. An additional step in the analysis for the future would be to check if this sample is skewed, or if indeed, just 7% of apps are paid for.  "
   ]
  },
  {
   "cell_type": "markdown",
   "id": "83eb1c44",
   "metadata": {},
   "source": [
    "### Do other features such as number of `Reviews` and `Content Rating` have any influece on app rating?"
   ]
  },
  {
   "cell_type": "markdown",
   "id": "97880574",
   "metadata": {},
   "source": [
    "The first question has been addressed in 4.1.1. Yes. When controlling for number of reviews, the average rating per Category changes. The reason for controlling for reviews is the introduction of biases in really well or poorly rated apps. As more reviews come in, less people will be likely to give it a 5 or a 1 rating unless the apps deserve them. We can look at a boxplot of the ratings per `Category` in the original df1 to see if there are difference when not looking at the `Category` level.  "
   ]
  },
  {
   "cell_type": "code",
   "execution_count": 1057,
   "id": "2999564a",
   "metadata": {},
   "outputs": [
    {
     "data": {
      "image/png": "[encoded data removed]",
      "text/plain": [
       "<Figure size 1152x576 with 1 Axes>"
      ]
     },
     "metadata": {
      "needs_background": "light"
     },
     "output_type": "display_data"
    }
   ],
   "source": [
    "# Boxplot by Category for bottom performers\n",
    "plt.figure(figsize=(16,8))\n",
    "sns.boxplot(data=df1, x='Cat_Reviews', y='Rating')\n",
    "plt.show();"
   ]
  },
  {
   "cell_type": "markdown",
   "id": "084f1f4b",
   "metadata": {},
   "source": [
    "Unstable reviews have a much larger range and much longer tail at the bottom. There are quite few really bad reviews. Also, the top range is higher than in the other groups. This is expected, since this group has less than 162 reviews and in some cases less than 10. "
   ]
  },
  {
   "cell_type": "markdown",
   "id": "a3e4936b",
   "metadata": {},
   "source": [
    "For content rating, the following boxplot shows the distribution of ratings with the new `Cat_Content` feature. "
   ]
  },
  {
   "cell_type": "code",
   "execution_count": 1061,
   "id": "65ebf4f7",
   "metadata": {},
   "outputs": [
    {
     "data": {
      "image/png": "[encoded data removed]",
      "text/plain": [
       "<Figure size 1152x576 with 1 Axes>"
      ]
     },
     "metadata": {
      "needs_background": "light"
     },
     "output_type": "display_data"
    }
   ],
   "source": [
    "# Boxplot by Category for bottom performers\n",
    "plt.figure(figsize=(16,8))\n",
    "sns.boxplot(data=df1, x='Cat_Content', y='Rating')\n",
    "plt.show();"
   ]
  },
  {
   "cell_type": "markdown",
   "id": "f0ed8431",
   "metadata": {},
   "source": [
    "The three categories have similar distributions. 'Everyone' has a longer left tail because it contains more then 90% of the observations and is more likely to contain the outliers of all categories. "
   ]
  },
  {
   "cell_type": "markdown",
   "id": "47282e09",
   "metadata": {},
   "source": [
    "## Conclusions"
   ]
  },
  {
   "cell_type": "markdown",
   "id": "a2a8c650",
   "metadata": {},
   "source": [
    "- On average, users tend to give positive ratings. The distribution of ratings shows a left skew, with only 25% of the distribution below 4. The average rating is 4.20 and the median 4.30. Hence, any detailed analysis of differences among categories or among particular apps within a category will happen in the 4 to 5 range. \n",
    "- The top-rated categories in the Google Play Store are Education, Books and Reference, and Art and Design. These are among  the top five categories even when we control for number of ratings (more than 162). \n",
    "- Education has the most consistent ratings . The range is smaller than other categories and has only one outlier at the bottom with a rating of 3.5. Nevertheless, it does not have any 5 ratings. \n",
    "- Dating is the worst performing category in terms of ratings. Although its range is compact, top performers are few and it has a long left tail with a few very poorly-rated apps. \n",
    "- Paid apps are better rated than free apps. Free apps show a longer left tail. This could be because developers spend less time and effort on the product since its free. The opposite argument could be made for paid apps. \n",
    "- It's important to caveat that only 7% of the apps in this sample are paid. A quick Google search shows that paid apps are 3% of total apps for 2022. So the averages and medians discussed above are probably more favorable than what they are currently, since this dataset's most current information is for August of 2018. \n",
    "- Apps with less than 162 reviews have a much wider distribution for ratings than those with more than 4700 reviews. As expected, the law of large numbers draws the variance down. This was to reason to exclude the former group from the Category analysis. \n",
    "- Median values for ratings tend to be consistent across Content categories (Everyone, Teen, Adult). Apps for Everyone do have a longer left tail, but this is probably due to representing more than 90% of the total observations in the sample. "
   ]
  },
  {
   "cell_type": "code",
   "execution_count": null,
   "id": "07f67cf6",
   "metadata": {},
   "outputs": [],
   "source": []
  }
 ],
 "metadata": {
  "kernelspec": {
   "display_name": "Python 3",
   "language": "python",
   "name": "python3"
  },
  "language_info": {
   "codemirror_mode": {
    "name": "ipython",
    "version": 3
   },
   "file_extension": ".py",
   "mimetype": "text/x-python",
   "name": "python",
   "nbconvert_exporter": "python",
   "pygments_lexer": "ipython3",
   "version": "3.8.8"
  },
  "toc": {
   "base_numbering": 1,
   "nav_menu": {},
   "number_sections": true,
   "sideBar": true,
   "skip_h1_title": true,
   "title_cell": "Table of Contents",
   "title_sidebar": "Contents",
   "toc_cell": false,
   "toc_position": {
    "height": "calc(100% - 180px)",
    "left": "10px",
    "top": "150px",
    "width": "341.333px"
   },
   "toc_section_display": true,
   "toc_window_display": true
  },
  "varInspector": {
   "cols": {
    "lenName": 16,
    "lenType": 16,
    "lenVar": 40
   },
   "kernels_config": {
    "python": {
     "delete_cmd_postfix": "",
     "delete_cmd_prefix": "del ",
     "library": "var_list.py",
     "varRefreshCmd": "print(var_dic_list())"
    },
    "r": {
     "delete_cmd_postfix": ") ",
     "delete_cmd_prefix": "rm(",
     "library": "var_list.r",
     "varRefreshCmd": "cat(var_dic_list()) "
    }
   },
   "types_to_exclude": [
    "module",
    "function",
    "builtin_function_or_method",
    "instance",
    "_Feature"
   ],
   "window_display": false
  }
 },
 "nbformat": 4,
 "nbformat_minor": 5
}
